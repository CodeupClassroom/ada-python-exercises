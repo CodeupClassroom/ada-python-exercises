{
 "cells": [
  {
   "cell_type": "code",
   "execution_count": 2,
   "metadata": {},
   "outputs": [],
   "source": [
    "import numpy as np"
   ]
  },
  {
   "cell_type": "code",
   "execution_count": 3,
   "metadata": {},
   "outputs": [
    {
     "data": {
      "text/plain": [
       "numpy.ndarray"
      ]
     },
     "execution_count": 3,
     "metadata": {},
     "output_type": "execute_result"
    }
   ],
   "source": [
    "a = np.array([1, 2, 3])\n",
    "type(a)"
   ]
  },
  {
   "cell_type": "code",
   "execution_count": 4,
   "metadata": {},
   "outputs": [],
   "source": [
    "m = np.array([[1, 2, 3], [4, 5, 6], [7, 8, 9]])"
   ]
  },
  {
   "cell_type": "code",
   "execution_count": 5,
   "metadata": {},
   "outputs": [
    {
     "data": {
      "text/plain": [
       "array([1, 2, 3])"
      ]
     },
     "execution_count": 5,
     "metadata": {},
     "output_type": "execute_result"
    }
   ],
   "source": [
    "a"
   ]
  },
  {
   "cell_type": "code",
   "execution_count": 6,
   "metadata": {},
   "outputs": [
    {
     "data": {
      "text/plain": [
       "array([2, 3])"
      ]
     },
     "execution_count": 6,
     "metadata": {},
     "output_type": "execute_result"
    }
   ],
   "source": [
    "a[1:] # from the index of 1 to the end\n",
    "a[:2] # from the beginning up to (but not incl) 2\n",
    "a[1:3] # from 1 to 3 (not including 3)"
   ]
  },
  {
   "cell_type": "code",
   "execution_count": 7,
   "metadata": {},
   "outputs": [
    {
     "data": {
      "text/plain": [
       "array([[1, 2, 3],\n",
       "       [4, 5, 6],\n",
       "       [7, 8, 9]])"
      ]
     },
     "execution_count": 7,
     "metadata": {},
     "output_type": "execute_result"
    }
   ],
   "source": [
    "m"
   ]
  },
  {
   "cell_type": "code",
   "execution_count": 8,
   "metadata": {},
   "outputs": [
    {
     "data": {
      "text/plain": [
       "array([[2, 3],\n",
       "       [5, 6]])"
      ]
     },
     "execution_count": 8,
     "metadata": {},
     "output_type": "execute_result"
    }
   ],
   "source": [
    "m[:2, 1:3] # row, column"
   ]
  },
  {
   "cell_type": "code",
   "execution_count": 9,
   "metadata": {},
   "outputs": [
    {
     "data": {
      "text/plain": [
       "(3,)"
      ]
     },
     "execution_count": 9,
     "metadata": {},
     "output_type": "execute_result"
    }
   ],
   "source": [
    "a.shape"
   ]
  },
  {
   "cell_type": "code",
   "execution_count": 10,
   "metadata": {},
   "outputs": [
    {
     "data": {
      "text/plain": [
       "(3, 3)"
      ]
     },
     "execution_count": 10,
     "metadata": {},
     "output_type": "execute_result"
    }
   ],
   "source": [
    "m.shape"
   ]
  },
  {
   "cell_type": "code",
   "execution_count": 11,
   "metadata": {},
   "outputs": [
    {
     "data": {
      "text/plain": [
       "array([2, 3, 4])"
      ]
     },
     "execution_count": 11,
     "metadata": {},
     "output_type": "execute_result"
    }
   ],
   "source": [
    "np.array([1, 2, 3]) + 1"
   ]
  },
  {
   "cell_type": "code",
   "execution_count": 12,
   "metadata": {},
   "outputs": [
    {
     "data": {
      "text/plain": [
       "array([[ 2,  3,  4],\n",
       "       [ 5,  6,  7],\n",
       "       [ 8,  9, 10]])"
      ]
     },
     "execution_count": 12,
     "metadata": {},
     "output_type": "execute_result"
    }
   ],
   "source": [
    "m + 1"
   ]
  },
  {
   "cell_type": "code",
   "execution_count": 13,
   "metadata": {},
   "outputs": [
    {
     "data": {
      "text/plain": [
       "array([[-3, -2, -1],\n",
       "       [ 0,  1,  2],\n",
       "       [ 3,  4,  5]])"
      ]
     },
     "execution_count": 13,
     "metadata": {},
     "output_type": "execute_result"
    }
   ],
   "source": [
    "m - 4"
   ]
  },
  {
   "cell_type": "code",
   "execution_count": 14,
   "metadata": {},
   "outputs": [
    {
     "data": {
      "text/plain": [
       "array([1, 2, 3])"
      ]
     },
     "execution_count": 14,
     "metadata": {},
     "output_type": "execute_result"
    }
   ],
   "source": [
    "a"
   ]
  },
  {
   "cell_type": "code",
   "execution_count": 15,
   "metadata": {},
   "outputs": [
    {
     "data": {
      "text/plain": [
       "array([1, 3])"
      ]
     },
     "execution_count": 15,
     "metadata": {},
     "output_type": "execute_result"
    }
   ],
   "source": [
    "indexes_to_keep = [True, False, True]\n",
    "a[indexes_to_keep]"
   ]
  },
  {
   "cell_type": "code",
   "execution_count": 16,
   "metadata": {},
   "outputs": [
    {
     "data": {
      "text/plain": [
       "array([1, 3])"
      ]
     },
     "execution_count": 16,
     "metadata": {},
     "output_type": "execute_result"
    }
   ],
   "source": [
    "a[(a % 2) == 1]"
   ]
  },
  {
   "cell_type": "code",
   "execution_count": 17,
   "metadata": {},
   "outputs": [
    {
     "data": {
      "text/plain": [
       "array([2, 3])"
      ]
     },
     "execution_count": 17,
     "metadata": {},
     "output_type": "execute_result"
    }
   ],
   "source": [
    "# numbers greater than or equal to 2\n",
    "indexes = a >= 2\n",
    "numbers_greater_than_or_equal_to_2 = a[indexes]\n",
    "\n",
    "numbers_greater_than_or_equal_to_2"
   ]
  },
  {
   "cell_type": "code",
   "execution_count": 18,
   "metadata": {},
   "outputs": [
    {
     "data": {
      "text/plain": [
       "array([2, 3])"
      ]
     },
     "execution_count": 18,
     "metadata": {},
     "output_type": "execute_result"
    }
   ],
   "source": [
    "a[a >= 2]"
   ]
  },
  {
   "cell_type": "code",
   "execution_count": 19,
   "metadata": {},
   "outputs": [
    {
     "data": {
      "text/plain": [
       "array([1])"
      ]
     },
     "execution_count": 19,
     "metadata": {},
     "output_type": "execute_result"
    }
   ],
   "source": [
    "a[a < 2]"
   ]
  },
  {
   "cell_type": "code",
   "execution_count": 20,
   "metadata": {},
   "outputs": [
    {
     "data": {
      "text/plain": [
       "array([-1.10325404,  0.93129154,  1.1668525 , -1.5631655 ,  0.47701986,\n",
       "       -1.18854704,  0.77339214, -0.88017781, -1.68115927,  0.10516884,\n",
       "       -0.29524293, -0.52936442,  0.07478753, -0.8789267 ,  0.04197637,\n",
       "        0.68935364,  1.08568513, -0.02517792, -1.13607976, -0.20530327,\n",
       "        0.17963021,  2.19635772,  0.72922402, -0.37332554, -0.36573909,\n",
       "        0.84141115,  0.34329215, -0.93828493,  0.33641049,  0.47999152,\n",
       "       -0.3599247 ,  0.00521218,  1.15455966,  1.54277858,  0.42117531,\n",
       "        1.31239508,  1.99285718, -0.21519214, -1.46807751,  0.70348194,\n",
       "       -1.08180077,  0.07558277,  0.02281461,  0.17241366, -1.22613846,\n",
       "        1.05160839, -0.59783272,  1.56220386,  0.99308133, -0.34880193,\n",
       "        0.4252771 , -0.58531048, -0.22068015, -2.17202872,  0.44734956,\n",
       "        0.3376835 , -1.53070343, -0.66994335,  0.93785356, -1.19845174,\n",
       "       -0.18565478, -0.18954581,  1.35486365, -0.15967255,  1.08991433,\n",
       "        0.33048255, -0.76119498,  1.45052382, -1.40890205, -0.535203  ,\n",
       "       -0.62473309,  0.81743984,  0.18748628,  1.98937486,  0.06672313,\n",
       "       -0.50522757,  1.08964084, -0.20158034, -0.10408377, -0.22860311,\n",
       "        0.38054235,  0.05505699,  0.21743057,  1.30202573, -0.02570848,\n",
       "       -0.20720489, -1.47026877,  0.16596182,  0.05059119,  0.10529016,\n",
       "       -1.01552458,  1.0223095 ,  0.10673914, -1.95394206, -0.86006916,\n",
       "       -0.04646739,  0.23541733,  0.75308292,  1.53373864, -0.58848596])"
      ]
     },
     "execution_count": 20,
     "metadata": {},
     "output_type": "execute_result"
    }
   ],
   "source": [
    "np.random.randn(100)"
   ]
  },
  {
   "cell_type": "code",
   "execution_count": 25,
   "metadata": {},
   "outputs": [
    {
     "data": {
      "text/plain": [
       "0.5000596"
      ]
     },
     "execution_count": 25,
     "metadata": {},
     "output_type": "execute_result"
    }
   ],
   "source": [
    "n = 10 ** 7\n",
    "a = np.random.randn(n)\n",
    "greater_than_zero = a > 0\n",
    "\n",
    "n_true = greater_than_zero.sum()\n",
    "\n",
    "n_true / a.shape[0]"
   ]
  },
  {
   "cell_type": "code",
   "execution_count": 28,
   "metadata": {},
   "outputs": [
    {
     "data": {
      "text/plain": [
       "array([[ 0.33201161,  0.52164974],\n",
       "       [-1.6928142 , -1.28542268],\n",
       "       [ 0.86952201, -0.7690012 ]])"
      ]
     },
     "execution_count": 28,
     "metadata": {},
     "output_type": "execute_result"
    }
   ],
   "source": [
    "np.random.randn(3, 2)"
   ]
  },
  {
   "cell_type": "code",
   "execution_count": 29,
   "metadata": {},
   "outputs": [
    {
     "data": {
      "text/plain": [
       "array([[[[-0.96193792,  0.65657945,  0.48428068],\n",
       "         [-1.15174563, -1.49086725, -1.25352938],\n",
       "         [ 1.06787644,  0.72565223, -1.09654302]],\n",
       "\n",
       "        [[ 0.54788791,  1.18945163, -0.03767294],\n",
       "         [-1.34439533, -0.25870532, -0.15302971],\n",
       "         [ 0.52679945, -0.29637874, -2.18244964]],\n",
       "\n",
       "        [[ 1.87681158,  0.17772034,  2.98198275],\n",
       "         [ 2.00026314,  1.36558998,  0.26623871],\n",
       "         [ 0.5145405 ,  0.5832829 ,  1.0432146 ]]],\n",
       "\n",
       "\n",
       "       [[[ 0.23303811,  0.12311227,  0.55110836],\n",
       "         [ 1.32145016, -1.0840423 ,  0.61505637],\n",
       "         [-1.30060519,  0.06007481,  0.91774312]],\n",
       "\n",
       "        [[-0.24962532, -0.85065868, -0.63025578],\n",
       "         [-0.11828462,  0.33744001,  0.30460125],\n",
       "         [-0.11212406, -0.18282862,  1.80285187]],\n",
       "\n",
       "        [[-0.73005489, -0.94771207,  1.43301547],\n",
       "         [ 0.51183832,  0.08277297, -0.68367821],\n",
       "         [ 0.1187773 , -0.73966027,  0.03727765]]],\n",
       "\n",
       "\n",
       "       [[[-0.51339573,  1.73015926,  0.8355894 ],\n",
       "         [-0.73830317,  0.6895526 ,  0.10847058],\n",
       "         [-0.38556143,  1.08940894,  1.65062942]],\n",
       "\n",
       "        [[ 0.13936364,  1.02720969,  0.41432469],\n",
       "         [-1.39672085, -0.17400114,  0.20680342],\n",
       "         [-0.42520148,  1.03600245, -0.31457016]],\n",
       "\n",
       "        [[ 0.6387204 , -1.34266043,  0.22277064],\n",
       "         [ 0.67216869, -2.23572235,  0.3872604 ],\n",
       "         [ 0.09928747, -1.29539777,  0.59547742]]]])"
      ]
     },
     "execution_count": 29,
     "metadata": {},
     "output_type": "execute_result"
    }
   ],
   "source": [
    "np.random.randn(3, 3, 3, 3)"
   ]
  },
  {
   "cell_type": "code",
   "execution_count": 48,
   "metadata": {},
   "outputs": [
    {
     "data": {
      "text/plain": [
       "array([91.01620876, 68.85295612, 75.34555513, ..., 74.83936397,\n",
       "       86.51894955, 77.50304272])"
      ]
     },
     "execution_count": 48,
     "metadata": {},
     "output_type": "execute_result"
    }
   ],
   "source": [
    "mean = 80\n",
    "standard_deviation = 10\n",
    "grades = np.random.randn(2000) * standard_deviation + mean\n",
    "grades"
   ]
  },
  {
   "cell_type": "code",
   "execution_count": 39,
   "metadata": {},
   "outputs": [
    {
     "data": {
      "text/plain": [
       "74.1098386774762"
      ]
     },
     "execution_count": 39,
     "metadata": {},
     "output_type": "execute_result"
    }
   ],
   "source": [
    "grades.mean()"
   ]
  },
  {
   "cell_type": "code",
   "execution_count": 49,
   "metadata": {},
   "outputs": [
    {
     "data": {
      "image/png": "[encoded data removed]",
      "text/plain": [
       "<Figure size 432x288 with 1 Axes>"
      ]
     },
     "metadata": {
      "needs_background": "light"
     },
     "output_type": "display_data"
    }
   ],
   "source": [
    "from matplotlib import pyplot as plt\n",
    "\n",
    "plt.hist(grades)\n",
    "plt.show()"
   ]
  },
  {
   "cell_type": "code",
   "execution_count": 50,
   "metadata": {},
   "outputs": [
    {
     "data": {
      "text/plain": [
       "array([13, 13, 15, 11, 15, 16, 13, 16, 10, 13, 11, 10, 12, 12, 13, 19, 11,\n",
       "       10, 16, 10, 12, 15, 16, 15, 18, 19, 19, 18, 11, 16, 19, 12, 16, 16,\n",
       "       18, 13, 19, 18, 14, 15, 19, 11, 11, 15, 17, 17, 13, 14, 14, 16, 15,\n",
       "       18, 15, 14, 17, 18, 14, 15, 19, 17, 10, 14, 14, 12, 15, 15, 10, 16,\n",
       "       10, 18, 17, 19, 18, 18, 11, 13, 12, 11, 16, 16, 19, 18, 18, 17, 17,\n",
       "       10, 18, 11, 13, 18, 13, 10, 19, 10, 13, 12, 15, 19, 17, 11])"
      ]
     },
     "execution_count": 50,
     "metadata": {},
     "output_type": "execute_result"
    }
   ],
   "source": [
    "np.random.randint(10, 20, size=100)"
   ]
  },
  {
   "cell_type": "code",
   "execution_count": 58,
   "metadata": {},
   "outputs": [
    {
     "data": {
      "text/plain": [
       "(100,)"
      ]
     },
     "execution_count": 58,
     "metadata": {},
     "output_type": "execute_result"
    }
   ],
   "source": [
    "np.arange(0, 10, step=0.1).shape"
   ]
  },
  {
   "cell_type": "code",
   "execution_count": 68,
   "metadata": {},
   "outputs": [],
   "source": [
    "a = np.linspace(0, 10, num=16)"
   ]
  },
  {
   "cell_type": "code",
   "execution_count": 81,
   "metadata": {},
   "outputs": [
    {
     "data": {
      "text/plain": [
       "1"
      ]
     },
     "execution_count": 81,
     "metadata": {},
     "output_type": "execute_result"
    }
   ],
   "source": [
    "a.min()\n",
    "a.mean()\n",
    "a.max()\n",
    "a.ndim\n"
   ]
  },
  {
   "cell_type": "code",
   "execution_count": 87,
   "metadata": {},
   "outputs": [
    {
     "data": {
      "text/plain": [
       "True"
      ]
     },
     "execution_count": 87,
     "metadata": {},
     "output_type": "execute_result"
    }
   ],
   "source": [
    "x = 3\n",
    "\n",
    "x > 2 and x < 6\n",
    "\n",
    "2 < x < 6"
   ]
  },
  {
   "cell_type": "code",
   "execution_count": 90,
   "metadata": {},
   "outputs": [
    {
     "data": {
      "text/plain": [
       "tuple"
      ]
     },
     "execution_count": 90,
     "metadata": {},
     "output_type": "execute_result"
    }
   ],
   "source": [
    "x = 1,\n",
    "\n",
    "type(x)"
   ]
  },
  {
   "cell_type": "code",
   "execution_count": 93,
   "metadata": {},
   "outputs": [
    {
     "name": "stdout",
     "output_type": "stream",
     "text": [
      "2.47 ms ± 54.3 µs per loop (mean ± std. dev. of 7 runs, 100 loops each)\n"
     ]
    }
   ],
   "source": [
    "%%timeit\n",
    "\n",
    "x = np.random.randn(100_000) + 1\n",
    "\n",
    "x - 1"
   ]
  }
 ],
 "metadata": {
  "kernelspec": {
   "display_name": "Python 3",
   "language": "python",
   "name": "python3"
  },
  "language_info": {
   "codemirror_mode": {
    "name": "ipython",
    "version": 3
   },
   "file_extension": ".py",
   "mimetype": "text/x-python",
   "name": "python",
   "nbconvert_exporter": "python",
   "pygments_lexer": "ipython3",
   "version": "3.6.8"
  },
  "toc": {
   "base_numbering": 1,
   "nav_menu": {},
   "number_sections": false,
   "sideBar": false,
   "skip_h1_title": false,
   "title_cell": "Table of Contents",
   "title_sidebar": "Contents",
   "toc_cell": false,
   "toc_position": {},
   "toc_section_display": false,
   "toc_window_display": false
  }
 },
 "nbformat": 4,
 "nbformat_minor": 2
}

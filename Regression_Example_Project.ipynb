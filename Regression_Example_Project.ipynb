{
 "cells": [
  {
   "cell_type": "markdown",
   "metadata": {},
   "source": [
    "# Reducing Churn\n",
    "\n",
    "## Project Planning\n",
    "\n",
    "### Goals\n",
    "\n",
    "We will provide actionable, data-driven recommendations for reducing churn. We will achieve this by analyzing available customer data in order to identify drivers of churn.  We hope to arrive at 1 or more theories related to causal relationships around churn.  \n",
    "\n",
    "### Deliverables\n",
    "\n",
    "1. Notebook detailing my analysis in a way that can be reproduced. \n",
    "2. Report summarizing my findings that can be emailed to all stakeholders\n",
    "3. A presentation to our product and customer relationship leadership team delivering the recommendations and the reasons for those recommendations.  \n",
    "\n",
    "\n",
    "### Data Dictionary & Details\n",
    "\n",
    "- churn:  We define churn as having discontinued all services.  \n",
    "- monthly_charges:  The monthly_charges are the 'current monthly charges' (when the data was collected), or the last charges prior to churn.  \n",
    "- The services listed are those that are present when the data was collected or at the point of churn.  "
   ]
  },
  {
   "cell_type": "code",
   "execution_count": 75,
   "metadata": {},
   "outputs": [],
   "source": [
    "import pandas as pd\n",
    "from env import user, host, pw\n",
    "\n",
    "def get_connection(db, user, host, password):\n",
    "    from sqlalchemy import create_engine\n",
    "    url = f'mysql+pymysql://{user}:{password}@{host}/{db}'\n",
    "    return create_engine(url)\n",
    "\n",
    "conn = get_connection('telco_churn', user, host, pw)\n",
    "\n",
    "df = pd.read_sql('SELECT c.*,p.payment_type, i.internet_service_type, t.contract_type \\\n",
    "                    FROM customers c \\\n",
    "                    JOIN payment_types p ON c.payment_type_id = p.payment_type_id \\\n",
    "                    JOIN internet_service_types i \\\n",
    "                        ON c.internet_service_type_id = i.internet_service_type_id \\\n",
    "                    JOIN contract_types t ON c.contract_type_id = t.contract_type_id;', \n",
    "                 conn)"
   ]
  },
  {
   "cell_type": "code",
   "execution_count": 76,
   "metadata": {},
   "outputs": [
    {
     "data": {
      "text/html": [
       "<div>\n",
       "<style scoped>\n",
       "    .dataframe tbody tr th:only-of-type {\n",
       "        vertical-align: middle;\n",
       "    }\n",
       "\n",
       "    .dataframe tbody tr th {\n",
       "        vertical-align: top;\n",
       "    }\n",
       "\n",
       "    .dataframe thead th {\n",
       "        text-align: right;\n",
       "    }\n",
       "</style>\n",
       "<table border=\"1\" class=\"dataframe\">\n",
       "  <thead>\n",
       "    <tr style=\"text-align: right;\">\n",
       "      <th></th>\n",
       "      <th>variable_name</th>\n",
       "    </tr>\n",
       "  </thead>\n",
       "  <tbody>\n",
       "    <tr>\n",
       "      <th>0</th>\n",
       "      <td>customer_id</td>\n",
       "    </tr>\n",
       "    <tr>\n",
       "      <th>1</th>\n",
       "      <td>gender</td>\n",
       "    </tr>\n",
       "    <tr>\n",
       "      <th>2</th>\n",
       "      <td>senior_citizen</td>\n",
       "    </tr>\n",
       "    <tr>\n",
       "      <th>3</th>\n",
       "      <td>partner</td>\n",
       "    </tr>\n",
       "    <tr>\n",
       "      <th>4</th>\n",
       "      <td>dependents</td>\n",
       "    </tr>\n",
       "    <tr>\n",
       "      <th>5</th>\n",
       "      <td>tenure</td>\n",
       "    </tr>\n",
       "    <tr>\n",
       "      <th>6</th>\n",
       "      <td>phone_service</td>\n",
       "    </tr>\n",
       "    <tr>\n",
       "      <th>7</th>\n",
       "      <td>multiple_lines</td>\n",
       "    </tr>\n",
       "    <tr>\n",
       "      <th>8</th>\n",
       "      <td>internet_service_type_id</td>\n",
       "    </tr>\n",
       "    <tr>\n",
       "      <th>9</th>\n",
       "      <td>online_security</td>\n",
       "    </tr>\n",
       "    <tr>\n",
       "      <th>10</th>\n",
       "      <td>online_backup</td>\n",
       "    </tr>\n",
       "    <tr>\n",
       "      <th>11</th>\n",
       "      <td>device_protection</td>\n",
       "    </tr>\n",
       "    <tr>\n",
       "      <th>12</th>\n",
       "      <td>tech_support</td>\n",
       "    </tr>\n",
       "    <tr>\n",
       "      <th>13</th>\n",
       "      <td>streaming_tv</td>\n",
       "    </tr>\n",
       "    <tr>\n",
       "      <th>14</th>\n",
       "      <td>streaming_movies</td>\n",
       "    </tr>\n",
       "    <tr>\n",
       "      <th>15</th>\n",
       "      <td>contract_type_id</td>\n",
       "    </tr>\n",
       "    <tr>\n",
       "      <th>16</th>\n",
       "      <td>paperless_billing</td>\n",
       "    </tr>\n",
       "    <tr>\n",
       "      <th>17</th>\n",
       "      <td>payment_type_id</td>\n",
       "    </tr>\n",
       "    <tr>\n",
       "      <th>18</th>\n",
       "      <td>monthly_charges</td>\n",
       "    </tr>\n",
       "    <tr>\n",
       "      <th>19</th>\n",
       "      <td>total_charges</td>\n",
       "    </tr>\n",
       "    <tr>\n",
       "      <th>20</th>\n",
       "      <td>churn</td>\n",
       "    </tr>\n",
       "    <tr>\n",
       "      <th>21</th>\n",
       "      <td>payment_type</td>\n",
       "    </tr>\n",
       "    <tr>\n",
       "      <th>22</th>\n",
       "      <td>internet_service_type</td>\n",
       "    </tr>\n",
       "    <tr>\n",
       "      <th>23</th>\n",
       "      <td>contract_type</td>\n",
       "    </tr>\n",
       "  </tbody>\n",
       "</table>\n",
       "</div>"
      ],
      "text/plain": [
       "               variable_name\n",
       "0                customer_id\n",
       "1                     gender\n",
       "2             senior_citizen\n",
       "3                    partner\n",
       "4                 dependents\n",
       "5                     tenure\n",
       "6              phone_service\n",
       "7             multiple_lines\n",
       "8   internet_service_type_id\n",
       "9            online_security\n",
       "10             online_backup\n",
       "11         device_protection\n",
       "12              tech_support\n",
       "13              streaming_tv\n",
       "14          streaming_movies\n",
       "15          contract_type_id\n",
       "16         paperless_billing\n",
       "17           payment_type_id\n",
       "18           monthly_charges\n",
       "19             total_charges\n",
       "20                     churn\n",
       "21              payment_type\n",
       "22     internet_service_type\n",
       "23             contract_type"
      ]
     },
     "execution_count": 76,
     "metadata": {},
     "output_type": "execute_result"
    }
   ],
   "source": [
    "variables = pd.DataFrame(df.columns, columns=['variable_name'])\n",
    "variables"
   ]
  },
  {
   "cell_type": "code",
   "execution_count": 77,
   "metadata": {},
   "outputs": [
    {
     "name": "stdout",
     "output_type": "stream",
     "text": [
      "payment_type\n",
      "Electronic check             2365\n",
      "Mailed check                 1612\n",
      "Bank transfer (automatic)    1544\n",
      "Credit card (automatic)      1522\n",
      "Name: payment_type, dtype: int64\n",
      "\n",
      "\n",
      "internet_service_type\n",
      "Fiber optic    3096\n",
      "DSL            2421\n",
      "None           1526\n",
      "Name: internet_service_type, dtype: int64\n",
      "\n",
      "\n",
      "contract_type\n",
      "Month-to-month    3875\n",
      "Two year          1695\n",
      "One year          1473\n",
      "Name: contract_type, dtype: int64\n",
      "\n",
      "\n"
     ]
    }
   ],
   "source": [
    "vars_to_define = ['payment_type', 'internet_service_type', 'contract_type']\n",
    "for var in vars_to_define:\n",
    "    print(var)\n",
    "    print(df[var].value_counts().head())\n",
    "    print('\\n')"
   ]
  },
  {
   "cell_type": "markdown",
   "metadata": {},
   "source": [
    "### Initial Thoughts, Ideas, Hypotheses\n",
    "\n",
    "- My experience with telco has demonstrated the best prices come in the beginning and with a contract.  Sign up with a 1 year or 2 year contract and you will get a great deal, along with some free movie channels often.  The free movie channels usually expire after 3-6 months, in my experience.  They remain on the service but the customer begins getting charged for them.  After the sign-on deal is over, the price generally jumps anywhere from 25-50% from the original sign-up prices.  \n",
    "\n",
    "\n",
    "- When customers call to cancel, I have experience an attempt to save the customer by offering another deal along with a contract.  I generally don't take those offers because by the time I reach that point, I am ready to leave. \n",
    "\n",
    "\n",
    "- The addition of fiber internet has added some interesting competition and movement.  Because fiber is in its infancy, the prices have started out higher but continue to drop as more companies are able to offer the option.  I have a hunch fiber might be leading to some migration of customers.  \n",
    "\n",
    "\n",
    "- Senior citizens could impact in a couple of ways I can think of:  \n",
    "\n",
    "    1. They could be less likely to churn, with possible attribution being lack of awareness of where to go or difficulty in adapting to a new service, new remote, etc.\n",
    "    \n",
    "    2. They could be more likely to churn due to pressure from other companies targeting senior citizens and taking advantage of their less experience in technology and the telco services.  \n",
    "    \n",
    "    \n",
    "- I might think that automatic payments, and especially bank transfer, would be less likely to churn, thinking that those with automatic payments are more removed from the cost and any changes in cost, as well as more removed from a negative touchpoint of customer/service provider relationship leaving them to just focus on their experience of the service of tv and/or internet.  \n",
    "\n",
    "\n",
    "- It could be reasonable to think that customers with land-lines are less likely to churn due to the extra challenges of porting numbers and lines.  \n",
    "\n",
    "\n",
    "- I hypothesize that those with the most services and most diversity of services are less likely to churn due to the work required to transfer services.  Especially those with online backup.  \n",
    "\n",
    "\n",
    "- If we control for services and watch the changes in prices over time, is there a difference in the percent increase in price over time for those who churn vs. those who don't?  Or is there a difference in the starting price?  Or a difference in the average price?  Or a difference in the most recent price, controlling for tenure? \n",
    "\n",
    "\n",
    "- It seems likely that month-to-month customers will churn more often, given that they have more opportunities to do so.  If we compare these customers with contract customers and look at annual churn, do those differences still exist?  What are the price differences in month-to-month?  Is there a max point price difference that will drive more customers to contract (if we find overall the contract customers churn less)? "
   ]
  },
  {
   "cell_type": "markdown",
   "metadata": {},
   "source": [
    "## Data Acquisition\n",
    "\n",
    "### Environment Set-up"
   ]
  },
  {
   "cell_type": "code",
   "execution_count": 78,
   "metadata": {},
   "outputs": [],
   "source": [
    "# ignore warnings\n",
    "import warnings\n",
    "warnings.filterwarnings(\"ignore\")\n",
    "\n",
    "# Wrangling\n",
    "import pandas as pd\n",
    "import numpy as np\n",
    "\n",
    "# Exploring\n",
    "import scipy.stats as stats\n",
    "\n",
    "# Visualizing\n",
    "import matplotlib.pyplot as plt\n",
    "import seaborn as sns\n",
    "%matplotlib inline\n",
    "\n",
    "# plt.style.use('classic')\n",
    "\n",
    "# Modeling\n",
    "import statsmodels.api as sm\n",
    "\n",
    "from scipy.stats import pearsonr\n",
    "\n",
    "from sklearn.model_selection import train_test_split\n",
    "from sklearn.linear_model import LinearRegression\n",
    "from sklearn.metrics import mean_squared_error, r2_score, mean_absolute_error, median_absolute_error"
   ]
  },
  {
   "cell_type": "markdown",
   "metadata": {},
   "source": [
    "### Acquire via SQL"
   ]
  },
  {
   "cell_type": "code",
   "execution_count": 79,
   "metadata": {},
   "outputs": [],
   "source": [
    "conn = get_connection('telco_churn', user, host, pw)\n",
    "\n",
    "df = pd.read_sql('SELECT c.*,p.payment_type, i.internet_service_type, t.contract_type \\\n",
    "                    FROM customers c \\\n",
    "                    JOIN payment_types p ON c.payment_type_id = p.payment_type_id \\\n",
    "                    JOIN internet_service_types i \\\n",
    "                        ON c.internet_service_type_id = i.internet_service_type_id \\\n",
    "                    JOIN contract_types t ON c.contract_type_id = t.contract_type_id;', \n",
    "                 conn)"
   ]
  },
  {
   "cell_type": "markdown",
   "metadata": {},
   "source": [
    "### Summarize"
   ]
  },
  {
   "cell_type": "code",
   "execution_count": 80,
   "metadata": {},
   "outputs": [],
   "source": [
    "def summarize_df(df):\n",
    "    print(\"Summary of Data\\n\")\n",
    "    print(\"Rows & Columns:\\n\")\n",
    "    print(df.shape)\n",
    "    print(\"Variables:\\n\")\n",
    "    var_names = df.columns.values\n",
    "    print(var_names)\n",
    "    print(\"\\nColumn Info:\\n\")\n",
    "    print(df.info())\n",
    "    print(\"\\nNumeric Summary Stats:\\n\")\n",
    "    print(df.describe())\n",
    "    print(\"\\nTop 5 Values:\\n\")\n",
    "    for var in var_names:\n",
    "        print(var+\":\")\n",
    "        print(df[var].value_counts().head())\n",
    "        print('\\n')\n",
    "    print(\"\\nMissing Values:\\n\")\n",
    "    null_counts = df.isnull().sum()\n",
    "    if len(null_counts[null_counts > 0]) == 0:\n",
    "        print(\"No missing values\")\n",
    "    else:\n",
    "        print(null_counts[null_counts > 0])\n",
    "    print(\"\\nFirst 5 rows:\\n\")\n",
    "    print(df.head())\n",
    "    print(\"\\nEnd of Summary\")"
   ]
  },
  {
   "cell_type": "code",
   "execution_count": 81,
   "metadata": {},
   "outputs": [
    {
     "name": "stdout",
     "output_type": "stream",
     "text": [
      "Summary of Data\n",
      "\n",
      "Rows & Columns:\n",
      "\n",
      "(7043, 24)\n",
      "Variables:\n",
      "\n",
      "['customer_id' 'gender' 'senior_citizen' 'partner' 'dependents' 'tenure'\n",
      " 'phone_service' 'multiple_lines' 'internet_service_type_id'\n",
      " 'online_security' 'online_backup' 'device_protection' 'tech_support'\n",
      " 'streaming_tv' 'streaming_movies' 'contract_type_id' 'paperless_billing'\n",
      " 'payment_type_id' 'monthly_charges' 'total_charges' 'churn'\n",
      " 'payment_type' 'internet_service_type' 'contract_type']\n",
      "\n",
      "Column Info:\n",
      "\n",
      "<class 'pandas.core.frame.DataFrame'>\n",
      "RangeIndex: 7043 entries, 0 to 7042\n",
      "Data columns (total 24 columns):\n",
      "customer_id                 7043 non-null object\n",
      "gender                      7043 non-null object\n",
      "senior_citizen              7043 non-null int64\n",
      "partner                     7043 non-null object\n",
      "dependents                  7043 non-null object\n",
      "tenure                      7043 non-null int64\n",
      "phone_service               7043 non-null object\n",
      "multiple_lines              7043 non-null object\n",
      "internet_service_type_id    7043 non-null int64\n",
      "online_security             7043 non-null object\n",
      "online_backup               7043 non-null object\n",
      "device_protection           7043 non-null object\n",
      "tech_support                7043 non-null object\n",
      "streaming_tv                7043 non-null object\n",
      "streaming_movies            7043 non-null object\n",
      "contract_type_id            7043 non-null int64\n",
      "paperless_billing           7043 non-null object\n",
      "payment_type_id             7043 non-null int64\n",
      "monthly_charges             7043 non-null float64\n",
      "total_charges               7043 non-null object\n",
      "churn                       7043 non-null object\n",
      "payment_type                7043 non-null object\n",
      "internet_service_type       7043 non-null object\n",
      "contract_type               7043 non-null object\n",
      "dtypes: float64(1), int64(5), object(18)\n",
      "memory usage: 1.3+ MB\n",
      "None\n",
      "\n",
      "Numeric Summary Stats:\n",
      "\n",
      "       senior_citizen       tenure  internet_service_type_id  \\\n",
      "count     7043.000000  7043.000000               7043.000000   \n",
      "mean         0.162147    32.371149                  1.872923   \n",
      "std          0.368612    24.559481                  0.737796   \n",
      "min          0.000000     0.000000                  1.000000   \n",
      "25%          0.000000     9.000000                  1.000000   \n",
      "50%          0.000000    29.000000                  2.000000   \n",
      "75%          0.000000    55.000000                  2.000000   \n",
      "max          1.000000    72.000000                  3.000000   \n",
      "\n",
      "       contract_type_id  payment_type_id  monthly_charges  \n",
      "count       7043.000000      7043.000000      7043.000000  \n",
      "mean           1.690473         2.315633        64.761692  \n",
      "std            0.833755         1.148907        30.090047  \n",
      "min            1.000000         1.000000        18.250000  \n",
      "25%            1.000000         1.000000        35.500000  \n",
      "50%            1.000000         2.000000        70.350000  \n",
      "75%            2.000000         3.000000        89.850000  \n",
      "max            3.000000         4.000000       118.750000  \n",
      "\n",
      "Top 5 Values:\n",
      "\n",
      "customer_id:\n",
      "6557-BZXLQ    1\n",
      "5216-WASFJ    1\n",
      "5485-WUYWF    1\n",
      "7609-YBPXG    1\n",
      "7241-AJHFS    1\n",
      "Name: customer_id, dtype: int64\n",
      "\n",
      "\n",
      "gender:\n",
      "Male      3555\n",
      "Female    3488\n",
      "Name: gender, dtype: int64\n",
      "\n",
      "\n",
      "senior_citizen:\n",
      "0    5901\n",
      "1    1142\n",
      "Name: senior_citizen, dtype: int64\n",
      "\n",
      "\n",
      "partner:\n",
      "No     3641\n",
      "Yes    3402\n",
      "Name: partner, dtype: int64\n",
      "\n",
      "\n",
      "dependents:\n",
      "No     4933\n",
      "Yes    2110\n",
      "Name: dependents, dtype: int64\n",
      "\n",
      "\n",
      "tenure:\n",
      "1     613\n",
      "72    362\n",
      "2     238\n",
      "3     200\n",
      "4     176\n",
      "Name: tenure, dtype: int64\n",
      "\n",
      "\n",
      "phone_service:\n",
      "Yes    6361\n",
      "No      682\n",
      "Name: phone_service, dtype: int64\n",
      "\n",
      "\n",
      "multiple_lines:\n",
      "No                  3390\n",
      "Yes                 2971\n",
      "No phone service     682\n",
      "Name: multiple_lines, dtype: int64\n",
      "\n",
      "\n",
      "internet_service_type_id:\n",
      "2    3096\n",
      "1    2421\n",
      "3    1526\n",
      "Name: internet_service_type_id, dtype: int64\n",
      "\n",
      "\n",
      "online_security:\n",
      "No                     3498\n",
      "Yes                    2019\n",
      "No internet service    1526\n",
      "Name: online_security, dtype: int64\n",
      "\n",
      "\n",
      "online_backup:\n",
      "No                     3088\n",
      "Yes                    2429\n",
      "No internet service    1526\n",
      "Name: online_backup, dtype: int64\n",
      "\n",
      "\n",
      "device_protection:\n",
      "No                     3095\n",
      "Yes                    2422\n",
      "No internet service    1526\n",
      "Name: device_protection, dtype: int64\n",
      "\n",
      "\n",
      "tech_support:\n",
      "No                     3473\n",
      "Yes                    2044\n",
      "No internet service    1526\n",
      "Name: tech_support, dtype: int64\n",
      "\n",
      "\n",
      "streaming_tv:\n",
      "No                     2810\n",
      "Yes                    2707\n",
      "No internet service    1526\n",
      "Name: streaming_tv, dtype: int64\n",
      "\n",
      "\n",
      "streaming_movies:\n",
      "No                     2785\n",
      "Yes                    2732\n",
      "No internet service    1526\n",
      "Name: streaming_movies, dtype: int64\n",
      "\n",
      "\n",
      "contract_type_id:\n",
      "1    3875\n",
      "3    1695\n",
      "2    1473\n",
      "Name: contract_type_id, dtype: int64\n",
      "\n",
      "\n",
      "paperless_billing:\n",
      "Yes    4171\n",
      "No     2872\n",
      "Name: paperless_billing, dtype: int64\n",
      "\n",
      "\n",
      "payment_type_id:\n",
      "1    2365\n",
      "2    1612\n",
      "3    1544\n",
      "4    1522\n",
      "Name: payment_type_id, dtype: int64\n",
      "\n",
      "\n",
      "monthly_charges:\n",
      "20.05    61\n",
      "19.85    45\n",
      "19.95    44\n",
      "19.90    44\n",
      "20.00    43\n",
      "Name: monthly_charges, dtype: int64\n",
      "\n",
      "\n",
      "total_charges:\n",
      "         11\n",
      "20.2     11\n",
      "19.75     9\n",
      "19.9      8\n",
      "19.65     8\n",
      "Name: total_charges, dtype: int64\n",
      "\n",
      "\n",
      "churn:\n",
      "No     5174\n",
      "Yes    1869\n",
      "Name: churn, dtype: int64\n",
      "\n",
      "\n",
      "payment_type:\n",
      "Electronic check             2365\n",
      "Mailed check                 1612\n",
      "Bank transfer (automatic)    1544\n",
      "Credit card (automatic)      1522\n",
      "Name: payment_type, dtype: int64\n",
      "\n",
      "\n",
      "internet_service_type:\n",
      "Fiber optic    3096\n",
      "DSL            2421\n",
      "None           1526\n",
      "Name: internet_service_type, dtype: int64\n",
      "\n",
      "\n",
      "contract_type:\n",
      "Month-to-month    3875\n",
      "Two year          1695\n",
      "One year          1473\n",
      "Name: contract_type, dtype: int64\n",
      "\n",
      "\n",
      "\n",
      "Missing Values:\n",
      "\n",
      "No missing values\n",
      "\n",
      "First 5 rows:\n",
      "\n",
      "  customer_id  gender  senior_citizen partner dependents  tenure  \\\n",
      "0  0003-MKNFE    Male               0      No         No       9   \n",
      "1  0013-MHZWF  Female               0      No        Yes       9   \n",
      "2  0015-UOCOJ  Female               1      No         No       7   \n",
      "3  0023-HGHWL    Male               1      No         No       1   \n",
      "4  0032-PGELS  Female               0     Yes        Yes       1   \n",
      "\n",
      "  phone_service    multiple_lines  internet_service_type_id online_security  \\\n",
      "0           Yes               Yes                         1              No   \n",
      "1           Yes                No                         1              No   \n",
      "2           Yes                No                         1             Yes   \n",
      "3            No  No phone service                         1              No   \n",
      "4            No  No phone service                         1             Yes   \n",
      "\n",
      "        ...       streaming_movies contract_type_id paperless_billing  \\\n",
      "0       ...                    Yes                1                No   \n",
      "1       ...                    Yes                1               Yes   \n",
      "2       ...                     No                1               Yes   \n",
      "3       ...                     No                1               Yes   \n",
      "4       ...                     No                1                No   \n",
      "\n",
      "  payment_type_id monthly_charges  total_charges churn  \\\n",
      "0               2            59.9          542.4    No   \n",
      "1               4            69.4         571.45    No   \n",
      "2               1            48.2         340.35    No   \n",
      "3               1            25.1           25.1   Yes   \n",
      "4               3            30.5           30.5   Yes   \n",
      "\n",
      "                payment_type  internet_service_type   contract_type  \n",
      "0               Mailed check                    DSL  Month-to-month  \n",
      "1    Credit card (automatic)                    DSL  Month-to-month  \n",
      "2           Electronic check                    DSL  Month-to-month  \n",
      "3           Electronic check                    DSL  Month-to-month  \n",
      "4  Bank transfer (automatic)                    DSL  Month-to-month  \n",
      "\n",
      "[5 rows x 24 columns]\n",
      "\n",
      "End of Summary\n"
     ]
    }
   ],
   "source": [
    "summarize_df(df)"
   ]
  },
  {
   "cell_type": "markdown",
   "metadata": {},
   "source": [
    "## Data Preparation\n",
    "\n",
    "1. Remove any variables I won't use\n",
    "2. Convert object or category variables to numeric\n",
    "3. Plot the distribution of monthly_charges, total_charges, and tenure\n"
   ]
  },
  {
   "cell_type": "markdown",
   "metadata": {},
   "source": [
    "#### 1. Remove Variables"
   ]
  },
  {
   "cell_type": "code",
   "execution_count": 82,
   "metadata": {},
   "outputs": [
    {
     "data": {
      "text/plain": [
       "contract_type   contract_type_id\n",
       "Month-to-month  1                   3875\n",
       "One year        2                   1473\n",
       "Two year        3                   1695\n",
       "Name: customer_id, dtype: int64"
      ]
     },
     "execution_count": 82,
     "metadata": {},
     "output_type": "execute_result"
    }
   ],
   "source": [
    "df.groupby(['contract_type','contract_type_id'])['customer_id'].count()"
   ]
  },
  {
   "cell_type": "code",
   "execution_count": 83,
   "metadata": {},
   "outputs": [
    {
     "data": {
      "text/plain": [
       "internet_service_type  internet_service_type_id\n",
       "DSL                    1                           2421\n",
       "Fiber optic            2                           3096\n",
       "None                   3                           1526\n",
       "Name: customer_id, dtype: int64"
      ]
     },
     "execution_count": 83,
     "metadata": {},
     "output_type": "execute_result"
    }
   ],
   "source": [
    "df.groupby(['internet_service_type', 'internet_service_type_id'])['customer_id'].count()"
   ]
  },
  {
   "cell_type": "code",
   "execution_count": 84,
   "metadata": {},
   "outputs": [
    {
     "data": {
      "text/plain": [
       "payment_type               payment_type_id\n",
       "Bank transfer (automatic)  3                  1544\n",
       "Credit card (automatic)    4                  1522\n",
       "Electronic check           1                  2365\n",
       "Mailed check               2                  1612\n",
       "Name: customer_id, dtype: int64"
      ]
     },
     "execution_count": 84,
     "metadata": {},
     "output_type": "execute_result"
    }
   ],
   "source": [
    "df.groupby(['payment_type', 'payment_type_id'])['customer_id'].count()"
   ]
  },
  {
   "cell_type": "code",
   "execution_count": 85,
   "metadata": {},
   "outputs": [
    {
     "data": {
      "text/plain": [
       "array(['gender', 'senior_citizen', 'partner', 'dependents', 'tenure',\n",
       "       'multiple_lines', 'internet_service_type_id', 'online_security',\n",
       "       'online_backup', 'device_protection', 'tech_support',\n",
       "       'streaming_tv', 'streaming_movies', 'contract_type_id',\n",
       "       'paperless_billing', 'payment_type_id', 'monthly_charges',\n",
       "       'total_charges', 'churn'], dtype=object)"
      ]
     },
     "execution_count": 85,
     "metadata": {},
     "output_type": "execute_result"
    }
   ],
   "source": [
    "cols_to_remove = ['customer_id', 'internet_service_type', 'contract_type', \n",
    "                  'payment_type', 'phone_service']\n",
    "df_short = df.drop(cols_to_remove, axis=1)\n",
    "df_short.columns.values"
   ]
  },
  {
   "cell_type": "markdown",
   "metadata": {},
   "source": [
    "#### 2. Convert to Numeric\n",
    "\n",
    "Using the value counts from our initial summary, I will make the following changes to these variables:\n",
    "\n",
    "I can change all of these with the same function: \n",
    "\n",
    "- partner: change to has_partner (1 if 'Yes',0)  \n",
    "\n",
    "- dependents: change to has_dependents (1 if 'Yes',0)  \n",
    "\n",
    "- online_security: change to has_online_security (1 if 'Yes', 0)  \n",
    "\n",
    "- online_backup: change to has_online_backup (1 if 'Yes', 0)  \n",
    "\n",
    "- device_protection: change to has_device_protection (1 if 'Yes', 0)  \n",
    "\n",
    "- tech_support: change to has_tech_support (1 if 'Yes', 0)  \n",
    "\n",
    "- streaming_tv: change to has_streaming_tv (1 if 'Yes', 0)  \n",
    "\n",
    "- streaming_movies: change to has_streaming_movies (1 if 'Yes', 0)  \n",
    "\n",
    "- paperless_billing: change to has_paperless_billing (1 if 'Yes', 0)\n",
    "\n",
    "\n",
    "These I will do separately:\n",
    "\n",
    "- gender:  change to is_female (1 if 'Female', 0)  \n",
    "\n",
    "- multiple_lines: change to phone_service (0 if 'No phone service', 1 if 'No', 2 if 'Yes')\n"
   ]
  },
  {
   "cell_type": "code",
   "execution_count": 86,
   "metadata": {},
   "outputs": [],
   "source": [
    "def change_to_boolean(x):\n",
    "    if x == 'Yes':\n",
    "        new_val = 1\n",
    "    else:\n",
    "        new_val = 0\n",
    "    return new_val"
   ]
  },
  {
   "cell_type": "code",
   "execution_count": 87,
   "metadata": {},
   "outputs": [],
   "source": [
    "cols_to_bool = ['churn', 'partner', 'dependents', 'online_security', 'online_backup', 'paperless_billing',\n",
    "                'device_protection','tech_support', 'streaming_tv', 'streaming_movies']\n",
    "\n",
    "for col in cols_to_bool:\n",
    "    new_col_name = 'has_'+col\n",
    "    df_short[new_col_name] = df_short[col].apply(lambda x: change_to_boolean(x))\n",
    "    df_short = df_short.drop([col], axis=1)"
   ]
  },
  {
   "cell_type": "code",
   "execution_count": 88,
   "metadata": {},
   "outputs": [],
   "source": [
    "def is_female(x):\n",
    "    if x == 'Female':\n",
    "        new_val = 1\n",
    "    else:\n",
    "        new_val = 0\n",
    "    return new_val\n",
    "\n",
    "def phone_service(x):\n",
    "    if x == 'Yes':\n",
    "        new_val = 2\n",
    "    elif x == 'No':\n",
    "        new_val = 1\n",
    "    else:\n",
    "        new_val = 0\n",
    "    return new_val"
   ]
  },
  {
   "cell_type": "code",
   "execution_count": 89,
   "metadata": {},
   "outputs": [],
   "source": [
    "df_short['is_female'] = df_short['gender'].apply(lambda x: is_female(x))\n",
    "df_short['phone_service_id'] = df_short['multiple_lines'].apply(lambda x: phone_service(x))\n",
    "\n",
    "df_short = df_short.drop(['gender', 'multiple_lines'], axis=1)"
   ]
  },
  {
   "cell_type": "code",
   "execution_count": 90,
   "metadata": {},
   "outputs": [
    {
     "name": "stdout",
     "output_type": "stream",
     "text": [
      "<class 'pandas.core.frame.DataFrame'>\n",
      "RangeIndex: 7043 entries, 0 to 7042\n",
      "Data columns (total 19 columns):\n",
      "senior_citizen              7043 non-null int64\n",
      "tenure                      7043 non-null int64\n",
      "internet_service_type_id    7043 non-null int64\n",
      "contract_type_id            7043 non-null int64\n",
      "payment_type_id             7043 non-null int64\n",
      "monthly_charges             7043 non-null float64\n",
      "total_charges               7043 non-null object\n",
      "has_churn                   7043 non-null int64\n",
      "has_partner                 7043 non-null int64\n",
      "has_dependents              7043 non-null int64\n",
      "has_online_security         7043 non-null int64\n",
      "has_online_backup           7043 non-null int64\n",
      "has_paperless_billing       7043 non-null int64\n",
      "has_device_protection       7043 non-null int64\n",
      "has_tech_support            7043 non-null int64\n",
      "has_streaming_tv            7043 non-null int64\n",
      "has_streaming_movies        7043 non-null int64\n",
      "is_female                   7043 non-null int64\n",
      "phone_service_id            7043 non-null int64\n",
      "dtypes: float64(1), int64(17), object(1)\n",
      "memory usage: 1.0+ MB\n"
     ]
    }
   ],
   "source": [
    "df_short.info()"
   ]
  },
  {
   "cell_type": "markdown",
   "metadata": {},
   "source": [
    "Now we can see that total_charges is the only remaining non-numeric variable. "
   ]
  },
  {
   "cell_type": "code",
   "execution_count": 91,
   "metadata": {},
   "outputs": [
    {
     "data": {
      "text/html": [
       "<div>\n",
       "<style scoped>\n",
       "    .dataframe tbody tr th:only-of-type {\n",
       "        vertical-align: middle;\n",
       "    }\n",
       "\n",
       "    .dataframe tbody tr th {\n",
       "        vertical-align: top;\n",
       "    }\n",
       "\n",
       "    .dataframe thead th {\n",
       "        text-align: right;\n",
       "    }\n",
       "</style>\n",
       "<table border=\"1\" class=\"dataframe\">\n",
       "  <thead>\n",
       "    <tr style=\"text-align: right;\">\n",
       "      <th></th>\n",
       "      <th>senior_citizen</th>\n",
       "      <th>tenure</th>\n",
       "      <th>internet_service_type_id</th>\n",
       "      <th>contract_type_id</th>\n",
       "      <th>payment_type_id</th>\n",
       "      <th>monthly_charges</th>\n",
       "      <th>total_charges</th>\n",
       "      <th>has_churn</th>\n",
       "      <th>has_partner</th>\n",
       "      <th>has_dependents</th>\n",
       "      <th>has_online_security</th>\n",
       "      <th>has_online_backup</th>\n",
       "      <th>has_paperless_billing</th>\n",
       "      <th>has_device_protection</th>\n",
       "      <th>has_tech_support</th>\n",
       "      <th>has_streaming_tv</th>\n",
       "      <th>has_streaming_movies</th>\n",
       "      <th>is_female</th>\n",
       "      <th>phone_service_id</th>\n",
       "    </tr>\n",
       "  </thead>\n",
       "  <tbody>\n",
       "    <tr>\n",
       "      <th>6605</th>\n",
       "      <td>0</td>\n",
       "      <td>0</td>\n",
       "      <td>3</td>\n",
       "      <td>3</td>\n",
       "      <td>2</td>\n",
       "      <td>20.25</td>\n",
       "      <td></td>\n",
       "      <td>0</td>\n",
       "      <td>0</td>\n",
       "      <td>1</td>\n",
       "      <td>0</td>\n",
       "      <td>0</td>\n",
       "      <td>0</td>\n",
       "      <td>0</td>\n",
       "      <td>0</td>\n",
       "      <td>0</td>\n",
       "      <td>0</td>\n",
       "      <td>0</td>\n",
       "      <td>1</td>\n",
       "    </tr>\n",
       "    <tr>\n",
       "      <th>5603</th>\n",
       "      <td>0</td>\n",
       "      <td>0</td>\n",
       "      <td>1</td>\n",
       "      <td>3</td>\n",
       "      <td>3</td>\n",
       "      <td>52.55</td>\n",
       "      <td></td>\n",
       "      <td>0</td>\n",
       "      <td>1</td>\n",
       "      <td>1</td>\n",
       "      <td>1</td>\n",
       "      <td>0</td>\n",
       "      <td>1</td>\n",
       "      <td>1</td>\n",
       "      <td>1</td>\n",
       "      <td>1</td>\n",
       "      <td>0</td>\n",
       "      <td>1</td>\n",
       "      <td>0</td>\n",
       "    </tr>\n",
       "    <tr>\n",
       "      <th>5584</th>\n",
       "      <td>0</td>\n",
       "      <td>0</td>\n",
       "      <td>1</td>\n",
       "      <td>3</td>\n",
       "      <td>2</td>\n",
       "      <td>73.35</td>\n",
       "      <td></td>\n",
       "      <td>0</td>\n",
       "      <td>1</td>\n",
       "      <td>1</td>\n",
       "      <td>0</td>\n",
       "      <td>1</td>\n",
       "      <td>0</td>\n",
       "      <td>1</td>\n",
       "      <td>1</td>\n",
       "      <td>1</td>\n",
       "      <td>0</td>\n",
       "      <td>1</td>\n",
       "      <td>2</td>\n",
       "    </tr>\n",
       "    <tr>\n",
       "      <th>5687</th>\n",
       "      <td>0</td>\n",
       "      <td>0</td>\n",
       "      <td>1</td>\n",
       "      <td>3</td>\n",
       "      <td>2</td>\n",
       "      <td>80.85</td>\n",
       "      <td></td>\n",
       "      <td>0</td>\n",
       "      <td>1</td>\n",
       "      <td>1</td>\n",
       "      <td>1</td>\n",
       "      <td>1</td>\n",
       "      <td>0</td>\n",
       "      <td>1</td>\n",
       "      <td>0</td>\n",
       "      <td>1</td>\n",
       "      <td>1</td>\n",
       "      <td>1</td>\n",
       "      <td>1</td>\n",
       "    </tr>\n",
       "    <tr>\n",
       "      <th>6615</th>\n",
       "      <td>0</td>\n",
       "      <td>0</td>\n",
       "      <td>3</td>\n",
       "      <td>3</td>\n",
       "      <td>2</td>\n",
       "      <td>25.35</td>\n",
       "      <td></td>\n",
       "      <td>0</td>\n",
       "      <td>1</td>\n",
       "      <td>1</td>\n",
       "      <td>0</td>\n",
       "      <td>0</td>\n",
       "      <td>0</td>\n",
       "      <td>0</td>\n",
       "      <td>0</td>\n",
       "      <td>0</td>\n",
       "      <td>0</td>\n",
       "      <td>0</td>\n",
       "      <td>2</td>\n",
       "    </tr>\n",
       "    <tr>\n",
       "      <th>5086</th>\n",
       "      <td>0</td>\n",
       "      <td>0</td>\n",
       "      <td>3</td>\n",
       "      <td>2</td>\n",
       "      <td>2</td>\n",
       "      <td>19.70</td>\n",
       "      <td></td>\n",
       "      <td>0</td>\n",
       "      <td>1</td>\n",
       "      <td>1</td>\n",
       "      <td>0</td>\n",
       "      <td>0</td>\n",
       "      <td>1</td>\n",
       "      <td>0</td>\n",
       "      <td>0</td>\n",
       "      <td>0</td>\n",
       "      <td>0</td>\n",
       "      <td>0</td>\n",
       "      <td>1</td>\n",
       "    </tr>\n",
       "    <tr>\n",
       "      <th>6686</th>\n",
       "      <td>0</td>\n",
       "      <td>0</td>\n",
       "      <td>3</td>\n",
       "      <td>3</td>\n",
       "      <td>2</td>\n",
       "      <td>25.75</td>\n",
       "      <td></td>\n",
       "      <td>0</td>\n",
       "      <td>1</td>\n",
       "      <td>1</td>\n",
       "      <td>0</td>\n",
       "      <td>0</td>\n",
       "      <td>0</td>\n",
       "      <td>0</td>\n",
       "      <td>0</td>\n",
       "      <td>0</td>\n",
       "      <td>0</td>\n",
       "      <td>0</td>\n",
       "      <td>2</td>\n",
       "    </tr>\n",
       "    <tr>\n",
       "      <th>6569</th>\n",
       "      <td>0</td>\n",
       "      <td>0</td>\n",
       "      <td>3</td>\n",
       "      <td>3</td>\n",
       "      <td>2</td>\n",
       "      <td>20.00</td>\n",
       "      <td></td>\n",
       "      <td>0</td>\n",
       "      <td>1</td>\n",
       "      <td>1</td>\n",
       "      <td>0</td>\n",
       "      <td>0</td>\n",
       "      <td>0</td>\n",
       "      <td>0</td>\n",
       "      <td>0</td>\n",
       "      <td>0</td>\n",
       "      <td>0</td>\n",
       "      <td>1</td>\n",
       "      <td>1</td>\n",
       "    </tr>\n",
       "    <tr>\n",
       "      <th>6895</th>\n",
       "      <td>0</td>\n",
       "      <td>0</td>\n",
       "      <td>3</td>\n",
       "      <td>3</td>\n",
       "      <td>2</td>\n",
       "      <td>19.85</td>\n",
       "      <td></td>\n",
       "      <td>0</td>\n",
       "      <td>1</td>\n",
       "      <td>1</td>\n",
       "      <td>0</td>\n",
       "      <td>0</td>\n",
       "      <td>0</td>\n",
       "      <td>0</td>\n",
       "      <td>0</td>\n",
       "      <td>0</td>\n",
       "      <td>0</td>\n",
       "      <td>0</td>\n",
       "      <td>1</td>\n",
       "    </tr>\n",
       "    <tr>\n",
       "      <th>5433</th>\n",
       "      <td>0</td>\n",
       "      <td>0</td>\n",
       "      <td>1</td>\n",
       "      <td>3</td>\n",
       "      <td>4</td>\n",
       "      <td>56.05</td>\n",
       "      <td></td>\n",
       "      <td>0</td>\n",
       "      <td>1</td>\n",
       "      <td>1</td>\n",
       "      <td>1</td>\n",
       "      <td>1</td>\n",
       "      <td>0</td>\n",
       "      <td>1</td>\n",
       "      <td>1</td>\n",
       "      <td>1</td>\n",
       "      <td>0</td>\n",
       "      <td>1</td>\n",
       "      <td>0</td>\n",
       "    </tr>\n",
       "  </tbody>\n",
       "</table>\n",
       "</div>"
      ],
      "text/plain": [
       "      senior_citizen  tenure  internet_service_type_id  contract_type_id  \\\n",
       "6605               0       0                         3                 3   \n",
       "5603               0       0                         1                 3   \n",
       "5584               0       0                         1                 3   \n",
       "5687               0       0                         1                 3   \n",
       "6615               0       0                         3                 3   \n",
       "5086               0       0                         3                 2   \n",
       "6686               0       0                         3                 3   \n",
       "6569               0       0                         3                 3   \n",
       "6895               0       0                         3                 3   \n",
       "5433               0       0                         1                 3   \n",
       "\n",
       "      payment_type_id  monthly_charges total_charges  has_churn  has_partner  \\\n",
       "6605                2            20.25                        0            0   \n",
       "5603                3            52.55                        0            1   \n",
       "5584                2            73.35                        0            1   \n",
       "5687                2            80.85                        0            1   \n",
       "6615                2            25.35                        0            1   \n",
       "5086                2            19.70                        0            1   \n",
       "6686                2            25.75                        0            1   \n",
       "6569                2            20.00                        0            1   \n",
       "6895                2            19.85                        0            1   \n",
       "5433                4            56.05                        0            1   \n",
       "\n",
       "      has_dependents  has_online_security  has_online_backup  \\\n",
       "6605               1                    0                  0   \n",
       "5603               1                    1                  0   \n",
       "5584               1                    0                  1   \n",
       "5687               1                    1                  1   \n",
       "6615               1                    0                  0   \n",
       "5086               1                    0                  0   \n",
       "6686               1                    0                  0   \n",
       "6569               1                    0                  0   \n",
       "6895               1                    0                  0   \n",
       "5433               1                    1                  1   \n",
       "\n",
       "      has_paperless_billing  has_device_protection  has_tech_support  \\\n",
       "6605                      0                      0                 0   \n",
       "5603                      1                      1                 1   \n",
       "5584                      0                      1                 1   \n",
       "5687                      0                      1                 0   \n",
       "6615                      0                      0                 0   \n",
       "5086                      1                      0                 0   \n",
       "6686                      0                      0                 0   \n",
       "6569                      0                      0                 0   \n",
       "6895                      0                      0                 0   \n",
       "5433                      0                      1                 1   \n",
       "\n",
       "      has_streaming_tv  has_streaming_movies  is_female  phone_service_id  \n",
       "6605                 0                     0          0                 1  \n",
       "5603                 1                     0          1                 0  \n",
       "5584                 1                     0          1                 2  \n",
       "5687                 1                     1          1                 1  \n",
       "6615                 0                     0          0                 2  \n",
       "5086                 0                     0          0                 1  \n",
       "6686                 0                     0          0                 2  \n",
       "6569                 0                     0          1                 1  \n",
       "6895                 0                     0          0                 1  \n",
       "5433                 1                     0          1                 0  "
      ]
     },
     "execution_count": 91,
     "metadata": {},
     "output_type": "execute_result"
    }
   ],
   "source": [
    "df_short.sort_values(['total_charges'], ascending=True).head(10)"
   ]
  },
  {
   "cell_type": "code",
   "execution_count": 92,
   "metadata": {},
   "outputs": [
    {
     "data": {
      "text/plain": [
       "senior_citizen               0\n",
       "tenure                       0\n",
       "internet_service_type_id     0\n",
       "contract_type_id             0\n",
       "payment_type_id              0\n",
       "monthly_charges              0\n",
       "total_charges               11\n",
       "has_churn                    0\n",
       "has_partner                  0\n",
       "has_dependents               0\n",
       "has_online_security          0\n",
       "has_online_backup            0\n",
       "has_paperless_billing        0\n",
       "has_device_protection        0\n",
       "has_tech_support             0\n",
       "has_streaming_tv             0\n",
       "has_streaming_movies         0\n",
       "is_female                    0\n",
       "phone_service_id             0\n",
       "dtype: int64"
      ]
     },
     "execution_count": 92,
     "metadata": {},
     "output_type": "execute_result"
    }
   ],
   "source": [
    "df_short['total_charges'] = df_short['total_charges'].replace(r'\\s+', np.nan, regex=True)\n",
    "df_short.isnull().sum()"
   ]
  },
  {
   "cell_type": "code",
   "execution_count": 94,
   "metadata": {},
   "outputs": [
    {
     "data": {
      "text/plain": [
       "senior_citizen              0\n",
       "tenure                      0\n",
       "internet_service_type_id    0\n",
       "contract_type_id            0\n",
       "payment_type_id             0\n",
       "monthly_charges             0\n",
       "total_charges               0\n",
       "has_churn                   0\n",
       "has_partner                 0\n",
       "has_dependents              0\n",
       "has_online_security         0\n",
       "has_online_backup           0\n",
       "has_paperless_billing       0\n",
       "has_device_protection       0\n",
       "has_tech_support            0\n",
       "has_streaming_tv            0\n",
       "has_streaming_movies        0\n",
       "is_female                   0\n",
       "phone_service_id            0\n",
       "dtype: int64"
      ]
     },
     "execution_count": 94,
     "metadata": {},
     "output_type": "execute_result"
    }
   ],
   "source": [
    "# change to numeric\n",
    "df_short = df_short.fillna(0)\n",
    "df_short.isnull().sum()"
   ]
  },
  {
   "cell_type": "markdown",
   "metadata": {},
   "source": [
    "#### 3. Plot the distribution\n",
    "\n",
    "##### monthly_charges, total_charges, and tenure"
   ]
  },
  {
   "cell_type": "code",
   "execution_count": null,
   "metadata": {},
   "outputs": [
    {
     "ename": "KeyboardInterrupt",
     "evalue": "",
     "output_type": "error",
     "traceback": [
      "\u001b[0;31m---------------------------------------------------------------------------\u001b[0m",
      "\u001b[0;31mKeyboardInterrupt\u001b[0m                         Traceback (most recent call last)",
      "\u001b[0;32m<ipython-input-96-aac650edccbe>\u001b[0m in \u001b[0;36m<module>\u001b[0;34m()\u001b[0m\n\u001b[1;32m      6\u001b[0m     \u001b[0mplt\u001b[0m\u001b[0;34m.\u001b[0m\u001b[0msubplot\u001b[0m\u001b[0;34m(\u001b[0m\u001b[0;36m1\u001b[0m\u001b[0;34m,\u001b[0m\u001b[0;36m3\u001b[0m\u001b[0;34m,\u001b[0m\u001b[0mplot_number\u001b[0m\u001b[0;34m)\u001b[0m\u001b[0;34m\u001b[0m\u001b[0;34m\u001b[0m\u001b[0m\n\u001b[1;32m      7\u001b[0m     \u001b[0mplt\u001b[0m\u001b[0;34m.\u001b[0m\u001b[0mtitle\u001b[0m\u001b[0;34m(\u001b[0m\u001b[0mcol\u001b[0m\u001b[0;34m)\u001b[0m\u001b[0;34m\u001b[0m\u001b[0;34m\u001b[0m\u001b[0m\n\u001b[0;32m----> 8\u001b[0;31m     \u001b[0mseries\u001b[0m\u001b[0;34m.\u001b[0m\u001b[0mhist\u001b[0m\u001b[0;34m(\u001b[0m\u001b[0mbins\u001b[0m\u001b[0;34m=\u001b[0m\u001b[0;36m20\u001b[0m\u001b[0;34m,\u001b[0m \u001b[0mdensity\u001b[0m\u001b[0;34m=\u001b[0m\u001b[0;32mTrue\u001b[0m\u001b[0;34m,\u001b[0m \u001b[0mcumulative\u001b[0m\u001b[0;34m=\u001b[0m\u001b[0;32mFalse\u001b[0m\u001b[0;34m,\u001b[0m \u001b[0mlog\u001b[0m\u001b[0;34m=\u001b[0m\u001b[0;32mFalse\u001b[0m\u001b[0;34m)\u001b[0m\u001b[0;34m\u001b[0m\u001b[0;34m\u001b[0m\u001b[0m\n\u001b[0m",
      "\u001b[0;32m~/anaconda3/lib/python3.6/site-packages/pandas/plotting/_core.py\u001b[0m in \u001b[0;36mhist_series\u001b[0;34m(self, by, ax, grid, xlabelsize, xrot, ylabelsize, yrot, figsize, bins, **kwds)\u001b[0m\n\u001b[1;32m   2479\u001b[0m         \u001b[0mvalues\u001b[0m \u001b[0;34m=\u001b[0m \u001b[0mself\u001b[0m\u001b[0;34m.\u001b[0m\u001b[0mdropna\u001b[0m\u001b[0;34m(\u001b[0m\u001b[0;34m)\u001b[0m\u001b[0;34m.\u001b[0m\u001b[0mvalues\u001b[0m\u001b[0;34m\u001b[0m\u001b[0;34m\u001b[0m\u001b[0m\n\u001b[1;32m   2480\u001b[0m \u001b[0;34m\u001b[0m\u001b[0m\n\u001b[0;32m-> 2481\u001b[0;31m         \u001b[0max\u001b[0m\u001b[0;34m.\u001b[0m\u001b[0mhist\u001b[0m\u001b[0;34m(\u001b[0m\u001b[0mvalues\u001b[0m\u001b[0;34m,\u001b[0m \u001b[0mbins\u001b[0m\u001b[0;34m=\u001b[0m\u001b[0mbins\u001b[0m\u001b[0;34m,\u001b[0m \u001b[0;34m**\u001b[0m\u001b[0mkwds\u001b[0m\u001b[0;34m)\u001b[0m\u001b[0;34m\u001b[0m\u001b[0;34m\u001b[0m\u001b[0m\n\u001b[0m\u001b[1;32m   2482\u001b[0m         \u001b[0max\u001b[0m\u001b[0;34m.\u001b[0m\u001b[0mgrid\u001b[0m\u001b[0;34m(\u001b[0m\u001b[0mgrid\u001b[0m\u001b[0;34m)\u001b[0m\u001b[0;34m\u001b[0m\u001b[0;34m\u001b[0m\u001b[0m\n\u001b[1;32m   2483\u001b[0m         \u001b[0maxes\u001b[0m \u001b[0;34m=\u001b[0m \u001b[0mnp\u001b[0m\u001b[0;34m.\u001b[0m\u001b[0marray\u001b[0m\u001b[0;34m(\u001b[0m\u001b[0;34m[\u001b[0m\u001b[0max\u001b[0m\u001b[0;34m]\u001b[0m\u001b[0;34m)\u001b[0m\u001b[0;34m\u001b[0m\u001b[0;34m\u001b[0m\u001b[0m\n",
      "\u001b[0;32m~/anaconda3/lib/python3.6/site-packages/matplotlib/__init__.py\u001b[0m in \u001b[0;36minner\u001b[0;34m(ax, data, *args, **kwargs)\u001b[0m\n\u001b[1;32m   1808\u001b[0m                         \u001b[0;34m\"the Matplotlib list!)\"\u001b[0m \u001b[0;34m%\u001b[0m \u001b[0;34m(\u001b[0m\u001b[0mlabel_namer\u001b[0m\u001b[0;34m,\u001b[0m \u001b[0mfunc\u001b[0m\u001b[0;34m.\u001b[0m\u001b[0m__name__\u001b[0m\u001b[0;34m)\u001b[0m\u001b[0;34m,\u001b[0m\u001b[0;34m\u001b[0m\u001b[0;34m\u001b[0m\u001b[0m\n\u001b[1;32m   1809\u001b[0m                         RuntimeWarning, stacklevel=2)\n\u001b[0;32m-> 1810\u001b[0;31m             \u001b[0;32mreturn\u001b[0m \u001b[0mfunc\u001b[0m\u001b[0;34m(\u001b[0m\u001b[0max\u001b[0m\u001b[0;34m,\u001b[0m \u001b[0;34m*\u001b[0m\u001b[0margs\u001b[0m\u001b[0;34m,\u001b[0m \u001b[0;34m**\u001b[0m\u001b[0mkwargs\u001b[0m\u001b[0;34m)\u001b[0m\u001b[0;34m\u001b[0m\u001b[0;34m\u001b[0m\u001b[0m\n\u001b[0m\u001b[1;32m   1811\u001b[0m \u001b[0;34m\u001b[0m\u001b[0m\n\u001b[1;32m   1812\u001b[0m         inner.__doc__ = _add_data_doc(inner.__doc__,\n",
      "\u001b[0;32m~/anaconda3/lib/python3.6/site-packages/matplotlib/axes/_axes.py\u001b[0m in \u001b[0;36mhist\u001b[0;34m(self, x, bins, range, density, weights, cumulative, bottom, histtype, align, orientation, rwidth, log, color, label, stacked, normed, **kwargs)\u001b[0m\n\u001b[1;32m   6665\u001b[0m                 patch = _barfunc(bins[:-1]+boffset, height, width,\n\u001b[1;32m   6666\u001b[0m                                  \u001b[0malign\u001b[0m\u001b[0;34m=\u001b[0m\u001b[0;34m'center'\u001b[0m\u001b[0;34m,\u001b[0m \u001b[0mlog\u001b[0m\u001b[0;34m=\u001b[0m\u001b[0mlog\u001b[0m\u001b[0;34m,\u001b[0m\u001b[0;34m\u001b[0m\u001b[0;34m\u001b[0m\u001b[0m\n\u001b[0;32m-> 6667\u001b[0;31m                                  color=c, **{bottom_kwarg: bottom})\n\u001b[0m\u001b[1;32m   6668\u001b[0m                 \u001b[0mpatches\u001b[0m\u001b[0;34m.\u001b[0m\u001b[0mappend\u001b[0m\u001b[0;34m(\u001b[0m\u001b[0mpatch\u001b[0m\u001b[0;34m)\u001b[0m\u001b[0;34m\u001b[0m\u001b[0;34m\u001b[0m\u001b[0m\n\u001b[1;32m   6669\u001b[0m                 \u001b[0;32mif\u001b[0m \u001b[0mstacked\u001b[0m\u001b[0;34m:\u001b[0m\u001b[0;34m\u001b[0m\u001b[0;34m\u001b[0m\u001b[0m\n",
      "\u001b[0;32m~/anaconda3/lib/python3.6/site-packages/matplotlib/__init__.py\u001b[0m in \u001b[0;36minner\u001b[0;34m(ax, data, *args, **kwargs)\u001b[0m\n\u001b[1;32m   1808\u001b[0m                         \u001b[0;34m\"the Matplotlib list!)\"\u001b[0m \u001b[0;34m%\u001b[0m \u001b[0;34m(\u001b[0m\u001b[0mlabel_namer\u001b[0m\u001b[0;34m,\u001b[0m \u001b[0mfunc\u001b[0m\u001b[0;34m.\u001b[0m\u001b[0m__name__\u001b[0m\u001b[0;34m)\u001b[0m\u001b[0;34m,\u001b[0m\u001b[0;34m\u001b[0m\u001b[0;34m\u001b[0m\u001b[0m\n\u001b[1;32m   1809\u001b[0m                         RuntimeWarning, stacklevel=2)\n\u001b[0;32m-> 1810\u001b[0;31m             \u001b[0;32mreturn\u001b[0m \u001b[0mfunc\u001b[0m\u001b[0;34m(\u001b[0m\u001b[0max\u001b[0m\u001b[0;34m,\u001b[0m \u001b[0;34m*\u001b[0m\u001b[0margs\u001b[0m\u001b[0;34m,\u001b[0m \u001b[0;34m**\u001b[0m\u001b[0mkwargs\u001b[0m\u001b[0;34m)\u001b[0m\u001b[0;34m\u001b[0m\u001b[0;34m\u001b[0m\u001b[0m\n\u001b[0m\u001b[1;32m   1811\u001b[0m \u001b[0;34m\u001b[0m\u001b[0m\n\u001b[1;32m   1812\u001b[0m         inner.__doc__ = _add_data_doc(inner.__doc__,\n",
      "\u001b[0;32m~/anaconda3/lib/python3.6/site-packages/matplotlib/axes/_axes.py\u001b[0m in \u001b[0;36mbar\u001b[0;34m(self, x, height, width, bottom, align, **kwargs)\u001b[0m\n\u001b[1;32m   2302\u001b[0m             \u001b[0;32melif\u001b[0m \u001b[0morientation\u001b[0m \u001b[0;34m==\u001b[0m \u001b[0;34m'horizontal'\u001b[0m\u001b[0;34m:\u001b[0m\u001b[0;34m\u001b[0m\u001b[0;34m\u001b[0m\u001b[0m\n\u001b[1;32m   2303\u001b[0m                 \u001b[0mr\u001b[0m\u001b[0;34m.\u001b[0m\u001b[0msticky_edges\u001b[0m\u001b[0;34m.\u001b[0m\u001b[0mx\u001b[0m\u001b[0;34m.\u001b[0m\u001b[0mappend\u001b[0m\u001b[0;34m(\u001b[0m\u001b[0ml\u001b[0m\u001b[0;34m)\u001b[0m\u001b[0;34m\u001b[0m\u001b[0;34m\u001b[0m\u001b[0m\n\u001b[0;32m-> 2304\u001b[0;31m             \u001b[0mself\u001b[0m\u001b[0;34m.\u001b[0m\u001b[0madd_patch\u001b[0m\u001b[0;34m(\u001b[0m\u001b[0mr\u001b[0m\u001b[0;34m)\u001b[0m\u001b[0;34m\u001b[0m\u001b[0;34m\u001b[0m\u001b[0m\n\u001b[0m\u001b[1;32m   2305\u001b[0m             \u001b[0mpatches\u001b[0m\u001b[0;34m.\u001b[0m\u001b[0mappend\u001b[0m\u001b[0;34m(\u001b[0m\u001b[0mr\u001b[0m\u001b[0;34m)\u001b[0m\u001b[0;34m\u001b[0m\u001b[0;34m\u001b[0m\u001b[0m\n\u001b[1;32m   2306\u001b[0m \u001b[0;34m\u001b[0m\u001b[0m\n",
      "\u001b[0;32m~/anaconda3/lib/python3.6/site-packages/matplotlib/axes/_base.py\u001b[0m in \u001b[0;36madd_patch\u001b[0;34m(self, p)\u001b[0m\n\u001b[1;32m   1967\u001b[0m         \u001b[0mself\u001b[0m\u001b[0;34m.\u001b[0m\u001b[0m_set_artist_props\u001b[0m\u001b[0;34m(\u001b[0m\u001b[0mp\u001b[0m\u001b[0;34m)\u001b[0m\u001b[0;34m\u001b[0m\u001b[0;34m\u001b[0m\u001b[0m\n\u001b[1;32m   1968\u001b[0m         \u001b[0;32mif\u001b[0m \u001b[0mp\u001b[0m\u001b[0;34m.\u001b[0m\u001b[0mget_clip_path\u001b[0m\u001b[0;34m(\u001b[0m\u001b[0;34m)\u001b[0m \u001b[0;32mis\u001b[0m \u001b[0;32mNone\u001b[0m\u001b[0;34m:\u001b[0m\u001b[0;34m\u001b[0m\u001b[0;34m\u001b[0m\u001b[0m\n\u001b[0;32m-> 1969\u001b[0;31m             \u001b[0mp\u001b[0m\u001b[0;34m.\u001b[0m\u001b[0mset_clip_path\u001b[0m\u001b[0;34m(\u001b[0m\u001b[0mself\u001b[0m\u001b[0;34m.\u001b[0m\u001b[0mpatch\u001b[0m\u001b[0;34m)\u001b[0m\u001b[0;34m\u001b[0m\u001b[0;34m\u001b[0m\u001b[0m\n\u001b[0m\u001b[1;32m   1970\u001b[0m         \u001b[0mself\u001b[0m\u001b[0;34m.\u001b[0m\u001b[0m_update_patch_limits\u001b[0m\u001b[0;34m(\u001b[0m\u001b[0mp\u001b[0m\u001b[0;34m)\u001b[0m\u001b[0;34m\u001b[0m\u001b[0;34m\u001b[0m\u001b[0m\n\u001b[1;32m   1971\u001b[0m         \u001b[0mself\u001b[0m\u001b[0;34m.\u001b[0m\u001b[0mpatches\u001b[0m\u001b[0;34m.\u001b[0m\u001b[0mappend\u001b[0m\u001b[0;34m(\u001b[0m\u001b[0mp\u001b[0m\u001b[0;34m)\u001b[0m\u001b[0;34m\u001b[0m\u001b[0;34m\u001b[0m\u001b[0m\n",
      "\u001b[0;32m~/anaconda3/lib/python3.6/site-packages/matplotlib/artist.py\u001b[0m in \u001b[0;36mset_clip_path\u001b[0;34m(self, path, transform)\u001b[0m\n\u001b[1;32m    684\u001b[0m             \u001b[0;32mif\u001b[0m \u001b[0misinstance\u001b[0m\u001b[0;34m(\u001b[0m\u001b[0mpath\u001b[0m\u001b[0;34m,\u001b[0m \u001b[0mRectangle\u001b[0m\u001b[0;34m)\u001b[0m\u001b[0;34m:\u001b[0m\u001b[0;34m\u001b[0m\u001b[0;34m\u001b[0m\u001b[0m\n\u001b[1;32m    685\u001b[0m                 self.clipbox = TransformedBbox(Bbox.unit(),\n\u001b[0;32m--> 686\u001b[0;31m                                                path.get_transform())\n\u001b[0m\u001b[1;32m    687\u001b[0m                 \u001b[0mself\u001b[0m\u001b[0;34m.\u001b[0m\u001b[0m_clippath\u001b[0m \u001b[0;34m=\u001b[0m \u001b[0;32mNone\u001b[0m\u001b[0;34m\u001b[0m\u001b[0;34m\u001b[0m\u001b[0m\n\u001b[1;32m    688\u001b[0m                 \u001b[0msuccess\u001b[0m \u001b[0;34m=\u001b[0m \u001b[0;32mTrue\u001b[0m\u001b[0;34m\u001b[0m\u001b[0;34m\u001b[0m\u001b[0m\n",
      "\u001b[0;32m~/anaconda3/lib/python3.6/site-packages/matplotlib/patches.py\u001b[0m in \u001b[0;36mget_transform\u001b[0;34m(self)\u001b[0m\n\u001b[1;32m    194\u001b[0m         \u001b[0mto\u001b[0m \u001b[0mthe\u001b[0m \u001b[0;34m:\u001b[0m\u001b[0;32mclass\u001b[0m\u001b[0;34m:\u001b[0m\u001b[0;31m`\u001b[0m\u001b[0mPatch\u001b[0m\u001b[0;31m`\u001b[0m\u001b[0;34m.\u001b[0m\u001b[0;34m\u001b[0m\u001b[0;34m\u001b[0m\u001b[0m\n\u001b[1;32m    195\u001b[0m         \"\"\"\n\u001b[0;32m--> 196\u001b[0;31m         \u001b[0;32mreturn\u001b[0m \u001b[0mself\u001b[0m\u001b[0;34m.\u001b[0m\u001b[0mget_patch_transform\u001b[0m\u001b[0;34m(\u001b[0m\u001b[0;34m)\u001b[0m \u001b[0;34m+\u001b[0m \u001b[0martist\u001b[0m\u001b[0;34m.\u001b[0m\u001b[0mArtist\u001b[0m\u001b[0;34m.\u001b[0m\u001b[0mget_transform\u001b[0m\u001b[0;34m(\u001b[0m\u001b[0mself\u001b[0m\u001b[0;34m)\u001b[0m\u001b[0;34m\u001b[0m\u001b[0;34m\u001b[0m\u001b[0m\n\u001b[0m\u001b[1;32m    197\u001b[0m \u001b[0;34m\u001b[0m\u001b[0m\n\u001b[1;32m    198\u001b[0m     \u001b[0;32mdef\u001b[0m \u001b[0mget_data_transform\u001b[0m\u001b[0;34m(\u001b[0m\u001b[0mself\u001b[0m\u001b[0;34m)\u001b[0m\u001b[0;34m:\u001b[0m\u001b[0;34m\u001b[0m\u001b[0;34m\u001b[0m\u001b[0m\n",
      "\u001b[0;32m~/anaconda3/lib/python3.6/site-packages/matplotlib/patches.py\u001b[0m in \u001b[0;36mget_patch_transform\u001b[0;34m(self)\u001b[0m\n\u001b[1;32m    707\u001b[0m \u001b[0;34m\u001b[0m\u001b[0m\n\u001b[1;32m    708\u001b[0m     \u001b[0;32mdef\u001b[0m \u001b[0mget_patch_transform\u001b[0m\u001b[0;34m(\u001b[0m\u001b[0mself\u001b[0m\u001b[0;34m)\u001b[0m\u001b[0;34m:\u001b[0m\u001b[0;34m\u001b[0m\u001b[0;34m\u001b[0m\u001b[0m\n\u001b[0;32m--> 709\u001b[0;31m         \u001b[0mself\u001b[0m\u001b[0;34m.\u001b[0m\u001b[0m_update_patch_transform\u001b[0m\u001b[0;34m(\u001b[0m\u001b[0;34m)\u001b[0m\u001b[0;34m\u001b[0m\u001b[0;34m\u001b[0m\u001b[0m\n\u001b[0m\u001b[1;32m    710\u001b[0m         \u001b[0;32mreturn\u001b[0m \u001b[0mself\u001b[0m\u001b[0;34m.\u001b[0m\u001b[0m_rect_transform\u001b[0m\u001b[0;34m\u001b[0m\u001b[0;34m\u001b[0m\u001b[0m\n\u001b[1;32m    711\u001b[0m \u001b[0;34m\u001b[0m\u001b[0m\n",
      "\u001b[0;32m~/anaconda3/lib/python3.6/site-packages/matplotlib/patches.py\u001b[0m in \u001b[0;36m_update_patch_transform\u001b[0;34m(self)\u001b[0m\n\u001b[1;32m    683\u001b[0m                  \u001b[0;32mnot\u001b[0m \u001b[0mdirectly\u001b[0m \u001b[0maccess\u001b[0m \u001b[0mthe\u001b[0m \u001b[0mtransformation\u001b[0m \u001b[0mmember\u001b[0m \u001b[0mvariable\u001b[0m\u001b[0;34m.\u001b[0m\u001b[0;34m\u001b[0m\u001b[0;34m\u001b[0m\u001b[0m\n\u001b[1;32m    684\u001b[0m         \"\"\"\n\u001b[0;32m--> 685\u001b[0;31m         \u001b[0mx0\u001b[0m\u001b[0;34m,\u001b[0m \u001b[0my0\u001b[0m\u001b[0;34m,\u001b[0m \u001b[0mx1\u001b[0m\u001b[0;34m,\u001b[0m \u001b[0my1\u001b[0m \u001b[0;34m=\u001b[0m \u001b[0mself\u001b[0m\u001b[0;34m.\u001b[0m\u001b[0m_convert_units\u001b[0m\u001b[0;34m(\u001b[0m\u001b[0;34m)\u001b[0m\u001b[0;34m\u001b[0m\u001b[0;34m\u001b[0m\u001b[0m\n\u001b[0m\u001b[1;32m    686\u001b[0m         \u001b[0mbbox\u001b[0m \u001b[0;34m=\u001b[0m \u001b[0mtransforms\u001b[0m\u001b[0;34m.\u001b[0m\u001b[0mBbox\u001b[0m\u001b[0;34m.\u001b[0m\u001b[0mfrom_extents\u001b[0m\u001b[0;34m(\u001b[0m\u001b[0mx0\u001b[0m\u001b[0;34m,\u001b[0m \u001b[0my0\u001b[0m\u001b[0;34m,\u001b[0m \u001b[0mx1\u001b[0m\u001b[0;34m,\u001b[0m \u001b[0my1\u001b[0m\u001b[0;34m)\u001b[0m\u001b[0;34m\u001b[0m\u001b[0;34m\u001b[0m\u001b[0m\n\u001b[1;32m    687\u001b[0m         \u001b[0mrot_trans\u001b[0m \u001b[0;34m=\u001b[0m \u001b[0mtransforms\u001b[0m\u001b[0;34m.\u001b[0m\u001b[0mAffine2D\u001b[0m\u001b[0;34m(\u001b[0m\u001b[0;34m)\u001b[0m\u001b[0;34m\u001b[0m\u001b[0;34m\u001b[0m\u001b[0m\n",
      "\u001b[0;32m~/anaconda3/lib/python3.6/site-packages/matplotlib/patches.py\u001b[0m in \u001b[0;36m_convert_units\u001b[0;34m(self)\u001b[0m\n\u001b[1;32m    702\u001b[0m         \u001b[0mx0\u001b[0m \u001b[0;34m=\u001b[0m \u001b[0mself\u001b[0m\u001b[0;34m.\u001b[0m\u001b[0mconvert_xunits\u001b[0m\u001b[0;34m(\u001b[0m\u001b[0mself\u001b[0m\u001b[0;34m.\u001b[0m\u001b[0m_x0\u001b[0m\u001b[0;34m)\u001b[0m\u001b[0;34m\u001b[0m\u001b[0;34m\u001b[0m\u001b[0m\n\u001b[1;32m    703\u001b[0m         \u001b[0my0\u001b[0m \u001b[0;34m=\u001b[0m \u001b[0mself\u001b[0m\u001b[0;34m.\u001b[0m\u001b[0mconvert_yunits\u001b[0m\u001b[0;34m(\u001b[0m\u001b[0mself\u001b[0m\u001b[0;34m.\u001b[0m\u001b[0m_y0\u001b[0m\u001b[0;34m)\u001b[0m\u001b[0;34m\u001b[0m\u001b[0;34m\u001b[0m\u001b[0m\n\u001b[0;32m--> 704\u001b[0;31m         \u001b[0mx1\u001b[0m \u001b[0;34m=\u001b[0m \u001b[0mself\u001b[0m\u001b[0;34m.\u001b[0m\u001b[0mconvert_xunits\u001b[0m\u001b[0;34m(\u001b[0m\u001b[0mself\u001b[0m\u001b[0;34m.\u001b[0m\u001b[0m_x1\u001b[0m\u001b[0;34m)\u001b[0m\u001b[0;34m\u001b[0m\u001b[0;34m\u001b[0m\u001b[0m\n\u001b[0m\u001b[1;32m    705\u001b[0m         \u001b[0my1\u001b[0m \u001b[0;34m=\u001b[0m \u001b[0mself\u001b[0m\u001b[0;34m.\u001b[0m\u001b[0mconvert_yunits\u001b[0m\u001b[0;34m(\u001b[0m\u001b[0mself\u001b[0m\u001b[0;34m.\u001b[0m\u001b[0m_y1\u001b[0m\u001b[0;34m)\u001b[0m\u001b[0;34m\u001b[0m\u001b[0;34m\u001b[0m\u001b[0m\n\u001b[1;32m    706\u001b[0m         \u001b[0;32mreturn\u001b[0m \u001b[0mx0\u001b[0m\u001b[0;34m,\u001b[0m \u001b[0my0\u001b[0m\u001b[0;34m,\u001b[0m \u001b[0mx1\u001b[0m\u001b[0;34m,\u001b[0m \u001b[0my1\u001b[0m\u001b[0;34m\u001b[0m\u001b[0;34m\u001b[0m\u001b[0m\n",
      "\u001b[0;32m~/anaconda3/lib/python3.6/site-packages/matplotlib/artist.py\u001b[0m in \u001b[0;36mconvert_xunits\u001b[0;34m(self, x)\u001b[0m\n\u001b[1;32m    177\u001b[0m         \u001b[0;32mreturn\u001b[0m \u001b[0max\u001b[0m\u001b[0;34m.\u001b[0m\u001b[0mxaxis\u001b[0m\u001b[0;34m.\u001b[0m\u001b[0mhave_units\u001b[0m\u001b[0;34m(\u001b[0m\u001b[0;34m)\u001b[0m \u001b[0;32mor\u001b[0m \u001b[0max\u001b[0m\u001b[0;34m.\u001b[0m\u001b[0myaxis\u001b[0m\u001b[0;34m.\u001b[0m\u001b[0mhave_units\u001b[0m\u001b[0;34m(\u001b[0m\u001b[0;34m)\u001b[0m\u001b[0;34m\u001b[0m\u001b[0;34m\u001b[0m\u001b[0m\n\u001b[1;32m    178\u001b[0m \u001b[0;34m\u001b[0m\u001b[0m\n\u001b[0;32m--> 179\u001b[0;31m     \u001b[0;32mdef\u001b[0m \u001b[0mconvert_xunits\u001b[0m\u001b[0;34m(\u001b[0m\u001b[0mself\u001b[0m\u001b[0;34m,\u001b[0m \u001b[0mx\u001b[0m\u001b[0;34m)\u001b[0m\u001b[0;34m:\u001b[0m\u001b[0;34m\u001b[0m\u001b[0;34m\u001b[0m\u001b[0m\n\u001b[0m\u001b[1;32m    180\u001b[0m         \"\"\"For artists in an axes, if the xaxis has units support,\n\u001b[1;32m    181\u001b[0m         \u001b[0mconvert\u001b[0m \u001b[0;34m*\u001b[0m\u001b[0mx\u001b[0m\u001b[0;34m*\u001b[0m \u001b[0musing\u001b[0m \u001b[0mxaxis\u001b[0m \u001b[0munit\u001b[0m \u001b[0mtype\u001b[0m\u001b[0;34m\u001b[0m\u001b[0;34m\u001b[0m\u001b[0m\n",
      "\u001b[0;31mKeyboardInterrupt\u001b[0m: "
     ]
    }
   ],
   "source": [
    "plt.figure(figsize=(16,6))\n",
    "\n",
    "for i, col in enumerate(['monthly_charges', 'total_charges', 'tenure']):\n",
    "    plot_number = i + 1\n",
    "    series = df_short[col]\n",
    "    plt.subplot(1,3,plot_number)\n",
    "    plt.title(col)\n",
    "    series.hist(bins=20, density=True, cumulative=False, log=False)"
   ]
  },
  {
   "cell_type": "markdown",
   "metadata": {},
   "source": [
    "## Data Exploration"
   ]
  },
  {
   "cell_type": "code",
   "execution_count": 38,
   "metadata": {},
   "outputs": [
    {
     "ename": "KeyError",
     "evalue": "\"None of [['churn']] are in the [index]\"",
     "output_type": "error",
     "traceback": [
      "\u001b[0;31m---------------------------------------------------------------------------\u001b[0m",
      "\u001b[0;31mKeyError\u001b[0m                                  Traceback (most recent call last)",
      "\u001b[0;32m<ipython-input-38-0fcfc607b40d>\u001b[0m in \u001b[0;36m<module>\u001b[0;34m()\u001b[0m\n\u001b[1;32m      1\u001b[0m \u001b[0mX\u001b[0m \u001b[0;34m=\u001b[0m \u001b[0mdf\u001b[0m\u001b[0;34m.\u001b[0m\u001b[0mdrop\u001b[0m\u001b[0;34m(\u001b[0m\u001b[0mcolumns\u001b[0m\u001b[0;34m=\u001b[0m\u001b[0;34m'churn'\u001b[0m\u001b[0;34m)\u001b[0m\u001b[0;34m\u001b[0m\u001b[0;34m\u001b[0m\u001b[0m\n\u001b[0;32m----> 2\u001b[0;31m \u001b[0my\u001b[0m \u001b[0;34m=\u001b[0m \u001b[0mdf\u001b[0m\u001b[0;34m[\u001b[0m\u001b[0;34m[\u001b[0m\u001b[0;34m'churn'\u001b[0m\u001b[0;34m]\u001b[0m\u001b[0;34m]\u001b[0m\u001b[0;34m\u001b[0m\u001b[0;34m\u001b[0m\u001b[0m\n\u001b[0m\u001b[1;32m      3\u001b[0m \u001b[0mX_train\u001b[0m\u001b[0;34m,\u001b[0m \u001b[0mX_test\u001b[0m\u001b[0;34m,\u001b[0m \u001b[0my_train\u001b[0m\u001b[0;34m,\u001b[0m \u001b[0my_test\u001b[0m \u001b[0;34m=\u001b[0m \u001b[0mtrain_test_split\u001b[0m\u001b[0;34m(\u001b[0m\u001b[0mX\u001b[0m\u001b[0;34m,\u001b[0m \u001b[0my\u001b[0m\u001b[0;34m,\u001b[0m \u001b[0mtrain_size\u001b[0m\u001b[0;34m=\u001b[0m\u001b[0;36m.7\u001b[0m\u001b[0;34m,\u001b[0m \u001b[0mrandom_state\u001b[0m\u001b[0;34m=\u001b[0m\u001b[0;36m123\u001b[0m\u001b[0;34m)\u001b[0m\u001b[0;34m\u001b[0m\u001b[0;34m\u001b[0m\u001b[0m\n",
      "\u001b[0;32m~/anaconda3/lib/python3.6/site-packages/pandas/core/series.py\u001b[0m in \u001b[0;36m__getitem__\u001b[0;34m(self, key)\u001b[0m\n\u001b[1;32m    808\u001b[0m             \u001b[0mkey\u001b[0m \u001b[0;34m=\u001b[0m \u001b[0mcheck_bool_indexer\u001b[0m\u001b[0;34m(\u001b[0m\u001b[0mself\u001b[0m\u001b[0;34m.\u001b[0m\u001b[0mindex\u001b[0m\u001b[0;34m,\u001b[0m \u001b[0mkey\u001b[0m\u001b[0;34m)\u001b[0m\u001b[0;34m\u001b[0m\u001b[0;34m\u001b[0m\u001b[0m\n\u001b[1;32m    809\u001b[0m \u001b[0;34m\u001b[0m\u001b[0m\n\u001b[0;32m--> 810\u001b[0;31m         \u001b[0;32mreturn\u001b[0m \u001b[0mself\u001b[0m\u001b[0;34m.\u001b[0m\u001b[0m_get_with\u001b[0m\u001b[0;34m(\u001b[0m\u001b[0mkey\u001b[0m\u001b[0;34m)\u001b[0m\u001b[0;34m\u001b[0m\u001b[0;34m\u001b[0m\u001b[0m\n\u001b[0m\u001b[1;32m    811\u001b[0m \u001b[0;34m\u001b[0m\u001b[0m\n\u001b[1;32m    812\u001b[0m     \u001b[0;32mdef\u001b[0m \u001b[0m_get_with\u001b[0m\u001b[0;34m(\u001b[0m\u001b[0mself\u001b[0m\u001b[0;34m,\u001b[0m \u001b[0mkey\u001b[0m\u001b[0;34m)\u001b[0m\u001b[0;34m:\u001b[0m\u001b[0;34m\u001b[0m\u001b[0;34m\u001b[0m\u001b[0m\n",
      "\u001b[0;32m~/anaconda3/lib/python3.6/site-packages/pandas/core/series.py\u001b[0m in \u001b[0;36m_get_with\u001b[0;34m(self, key)\u001b[0m\n\u001b[1;32m    849\u001b[0m                     \u001b[0;31m# handle the dup indexing case (GH 4246)\u001b[0m\u001b[0;34m\u001b[0m\u001b[0;34m\u001b[0m\u001b[0;34m\u001b[0m\u001b[0m\n\u001b[1;32m    850\u001b[0m                     \u001b[0;32mif\u001b[0m \u001b[0misinstance\u001b[0m\u001b[0;34m(\u001b[0m\u001b[0mkey\u001b[0m\u001b[0;34m,\u001b[0m \u001b[0;34m(\u001b[0m\u001b[0mlist\u001b[0m\u001b[0;34m,\u001b[0m \u001b[0mtuple\u001b[0m\u001b[0;34m)\u001b[0m\u001b[0;34m)\u001b[0m\u001b[0;34m:\u001b[0m\u001b[0;34m\u001b[0m\u001b[0;34m\u001b[0m\u001b[0m\n\u001b[0;32m--> 851\u001b[0;31m                         \u001b[0;32mreturn\u001b[0m \u001b[0mself\u001b[0m\u001b[0;34m.\u001b[0m\u001b[0mloc\u001b[0m\u001b[0;34m[\u001b[0m\u001b[0mkey\u001b[0m\u001b[0;34m]\u001b[0m\u001b[0;34m\u001b[0m\u001b[0;34m\u001b[0m\u001b[0m\n\u001b[0m\u001b[1;32m    852\u001b[0m \u001b[0;34m\u001b[0m\u001b[0m\n\u001b[1;32m    853\u001b[0m                     \u001b[0;32mreturn\u001b[0m \u001b[0mself\u001b[0m\u001b[0;34m.\u001b[0m\u001b[0mreindex\u001b[0m\u001b[0;34m(\u001b[0m\u001b[0mkey\u001b[0m\u001b[0;34m)\u001b[0m\u001b[0;34m\u001b[0m\u001b[0;34m\u001b[0m\u001b[0m\n",
      "\u001b[0;32m~/anaconda3/lib/python3.6/site-packages/pandas/core/indexing.py\u001b[0m in \u001b[0;36m__getitem__\u001b[0;34m(self, key)\u001b[0m\n\u001b[1;32m   1476\u001b[0m \u001b[0;34m\u001b[0m\u001b[0m\n\u001b[1;32m   1477\u001b[0m             \u001b[0mmaybe_callable\u001b[0m \u001b[0;34m=\u001b[0m \u001b[0mcom\u001b[0m\u001b[0;34m.\u001b[0m\u001b[0m_apply_if_callable\u001b[0m\u001b[0;34m(\u001b[0m\u001b[0mkey\u001b[0m\u001b[0;34m,\u001b[0m \u001b[0mself\u001b[0m\u001b[0;34m.\u001b[0m\u001b[0mobj\u001b[0m\u001b[0;34m)\u001b[0m\u001b[0;34m\u001b[0m\u001b[0;34m\u001b[0m\u001b[0m\n\u001b[0;32m-> 1478\u001b[0;31m             \u001b[0;32mreturn\u001b[0m \u001b[0mself\u001b[0m\u001b[0;34m.\u001b[0m\u001b[0m_getitem_axis\u001b[0m\u001b[0;34m(\u001b[0m\u001b[0mmaybe_callable\u001b[0m\u001b[0;34m,\u001b[0m \u001b[0maxis\u001b[0m\u001b[0;34m=\u001b[0m\u001b[0maxis\u001b[0m\u001b[0;34m)\u001b[0m\u001b[0;34m\u001b[0m\u001b[0;34m\u001b[0m\u001b[0m\n\u001b[0m\u001b[1;32m   1479\u001b[0m \u001b[0;34m\u001b[0m\u001b[0m\n\u001b[1;32m   1480\u001b[0m     \u001b[0;32mdef\u001b[0m \u001b[0m_is_scalar_access\u001b[0m\u001b[0;34m(\u001b[0m\u001b[0mself\u001b[0m\u001b[0;34m,\u001b[0m \u001b[0mkey\u001b[0m\u001b[0;34m)\u001b[0m\u001b[0;34m:\u001b[0m\u001b[0;34m\u001b[0m\u001b[0;34m\u001b[0m\u001b[0m\n",
      "\u001b[0;32m~/anaconda3/lib/python3.6/site-packages/pandas/core/indexing.py\u001b[0m in \u001b[0;36m_getitem_axis\u001b[0;34m(self, key, axis)\u001b[0m\n\u001b[1;32m   1899\u001b[0m                     \u001b[0;32mraise\u001b[0m \u001b[0mValueError\u001b[0m\u001b[0;34m(\u001b[0m\u001b[0;34m'Cannot index with multidimensional key'\u001b[0m\u001b[0;34m)\u001b[0m\u001b[0;34m\u001b[0m\u001b[0;34m\u001b[0m\u001b[0m\n\u001b[1;32m   1900\u001b[0m \u001b[0;34m\u001b[0m\u001b[0m\n\u001b[0;32m-> 1901\u001b[0;31m                 \u001b[0;32mreturn\u001b[0m \u001b[0mself\u001b[0m\u001b[0;34m.\u001b[0m\u001b[0m_getitem_iterable\u001b[0m\u001b[0;34m(\u001b[0m\u001b[0mkey\u001b[0m\u001b[0;34m,\u001b[0m \u001b[0maxis\u001b[0m\u001b[0;34m=\u001b[0m\u001b[0maxis\u001b[0m\u001b[0;34m)\u001b[0m\u001b[0;34m\u001b[0m\u001b[0;34m\u001b[0m\u001b[0m\n\u001b[0m\u001b[1;32m   1902\u001b[0m \u001b[0;34m\u001b[0m\u001b[0m\n\u001b[1;32m   1903\u001b[0m             \u001b[0;31m# nested tuple slicing\u001b[0m\u001b[0;34m\u001b[0m\u001b[0;34m\u001b[0m\u001b[0;34m\u001b[0m\u001b[0m\n",
      "\u001b[0;32m~/anaconda3/lib/python3.6/site-packages/pandas/core/indexing.py\u001b[0m in \u001b[0;36m_getitem_iterable\u001b[0;34m(self, key, axis)\u001b[0m\n\u001b[1;32m   1141\u001b[0m             \u001b[0;32mif\u001b[0m \u001b[0mlabels\u001b[0m\u001b[0;34m.\u001b[0m\u001b[0mis_unique\u001b[0m \u001b[0;32mand\u001b[0m \u001b[0mIndex\u001b[0m\u001b[0;34m(\u001b[0m\u001b[0mkeyarr\u001b[0m\u001b[0;34m)\u001b[0m\u001b[0;34m.\u001b[0m\u001b[0mis_unique\u001b[0m\u001b[0;34m:\u001b[0m\u001b[0;34m\u001b[0m\u001b[0;34m\u001b[0m\u001b[0m\n\u001b[1;32m   1142\u001b[0m                 \u001b[0mindexer\u001b[0m \u001b[0;34m=\u001b[0m \u001b[0max\u001b[0m\u001b[0;34m.\u001b[0m\u001b[0mget_indexer_for\u001b[0m\u001b[0;34m(\u001b[0m\u001b[0mkey\u001b[0m\u001b[0;34m)\u001b[0m\u001b[0;34m\u001b[0m\u001b[0;34m\u001b[0m\u001b[0m\n\u001b[0;32m-> 1143\u001b[0;31m                 \u001b[0mself\u001b[0m\u001b[0;34m.\u001b[0m\u001b[0m_validate_read_indexer\u001b[0m\u001b[0;34m(\u001b[0m\u001b[0mkey\u001b[0m\u001b[0;34m,\u001b[0m \u001b[0mindexer\u001b[0m\u001b[0;34m,\u001b[0m \u001b[0maxis\u001b[0m\u001b[0;34m)\u001b[0m\u001b[0;34m\u001b[0m\u001b[0;34m\u001b[0m\u001b[0m\n\u001b[0m\u001b[1;32m   1144\u001b[0m \u001b[0;34m\u001b[0m\u001b[0m\n\u001b[1;32m   1145\u001b[0m                 \u001b[0md\u001b[0m \u001b[0;34m=\u001b[0m \u001b[0;34m{\u001b[0m\u001b[0maxis\u001b[0m\u001b[0;34m:\u001b[0m \u001b[0;34m[\u001b[0m\u001b[0max\u001b[0m\u001b[0;34m.\u001b[0m\u001b[0mreindex\u001b[0m\u001b[0;34m(\u001b[0m\u001b[0mkeyarr\u001b[0m\u001b[0;34m)\u001b[0m\u001b[0;34m[\u001b[0m\u001b[0;36m0\u001b[0m\u001b[0;34m]\u001b[0m\u001b[0;34m,\u001b[0m \u001b[0mindexer\u001b[0m\u001b[0;34m]\u001b[0m\u001b[0;34m}\u001b[0m\u001b[0;34m\u001b[0m\u001b[0;34m\u001b[0m\u001b[0m\n",
      "\u001b[0;32m~/anaconda3/lib/python3.6/site-packages/pandas/core/indexing.py\u001b[0m in \u001b[0;36m_validate_read_indexer\u001b[0;34m(self, key, indexer, axis)\u001b[0m\n\u001b[1;32m   1204\u001b[0m                 raise KeyError(\n\u001b[1;32m   1205\u001b[0m                     u\"None of [{key}] are in the [{axis}]\".format(\n\u001b[0;32m-> 1206\u001b[0;31m                         key=key, axis=self.obj._get_axis_name(axis)))\n\u001b[0m\u001b[1;32m   1207\u001b[0m \u001b[0;34m\u001b[0m\u001b[0m\n\u001b[1;32m   1208\u001b[0m             \u001b[0;31m# we skip the warning on Categorical/Interval\u001b[0m\u001b[0;34m\u001b[0m\u001b[0;34m\u001b[0m\u001b[0;34m\u001b[0m\u001b[0m\n",
      "\u001b[0;31mKeyError\u001b[0m: \"None of [['churn']] are in the [index]\""
     ]
    }
   ],
   "source": [
    "X = df_.drop(['churn']\n",
    "y = df[['churn']]\n",
    "X_train, X_test, y_train, y_test = train_test_split(X, y, train_size=.7, random_state=123)"
   ]
  },
  {
   "cell_type": "code",
   "execution_count": 36,
   "metadata": {},
   "outputs": [
    {
     "ename": "NameError",
     "evalue": "name 'train' is not defined",
     "output_type": "error",
     "traceback": [
      "\u001b[0;31m---------------------------------------------------------------------------\u001b[0m",
      "\u001b[0;31mNameError\u001b[0m                                 Traceback (most recent call last)",
      "\u001b[0;32m<ipython-input-36-10b6e0b34b13>\u001b[0m in \u001b[0;36m<module>\u001b[0;34m()\u001b[0m\n\u001b[1;32m      1\u001b[0m \u001b[0;32mwith\u001b[0m \u001b[0msns\u001b[0m\u001b[0;34m.\u001b[0m\u001b[0maxes_style\u001b[0m\u001b[0;34m(\u001b[0m\u001b[0;34m'white'\u001b[0m\u001b[0;34m)\u001b[0m\u001b[0;34m:\u001b[0m\u001b[0;34m\u001b[0m\u001b[0;34m\u001b[0m\u001b[0m\n\u001b[0;32m----> 2\u001b[0;31m     \u001b[0mj\u001b[0m \u001b[0;34m=\u001b[0m \u001b[0msns\u001b[0m\u001b[0;34m.\u001b[0m\u001b[0mjointplot\u001b[0m\u001b[0;34m(\u001b[0m\u001b[0;34m\"monthly_charges\"\u001b[0m\u001b[0;34m,\u001b[0m \u001b[0;34m\"total_charges\"\u001b[0m\u001b[0;34m,\u001b[0m \u001b[0mdata\u001b[0m\u001b[0;34m=\u001b[0m\u001b[0mtrain\u001b[0m\u001b[0;34m,\u001b[0m \u001b[0mkind\u001b[0m\u001b[0;34m=\u001b[0m\u001b[0;34m'reg'\u001b[0m\u001b[0;34m,\u001b[0m \u001b[0mheight\u001b[0m\u001b[0;34m=\u001b[0m\u001b[0;36m5\u001b[0m\u001b[0;34m)\u001b[0m\u001b[0;34m;\u001b[0m\u001b[0;34m\u001b[0m\u001b[0;34m\u001b[0m\u001b[0m\n\u001b[0m\u001b[1;32m      3\u001b[0m     \u001b[0mj\u001b[0m\u001b[0;34m.\u001b[0m\u001b[0mannotate\u001b[0m\u001b[0;34m(\u001b[0m\u001b[0mstats\u001b[0m\u001b[0;34m.\u001b[0m\u001b[0mpearsonr\u001b[0m\u001b[0;34m)\u001b[0m\u001b[0;34m\u001b[0m\u001b[0;34m\u001b[0m\u001b[0m\n\u001b[1;32m      4\u001b[0m \u001b[0mplt\u001b[0m\u001b[0;34m.\u001b[0m\u001b[0mshow\u001b[0m\u001b[0;34m(\u001b[0m\u001b[0;34m)\u001b[0m\u001b[0;34m\u001b[0m\u001b[0;34m\u001b[0m\u001b[0m\n",
      "\u001b[0;31mNameError\u001b[0m: name 'train' is not defined"
     ]
    }
   ],
   "source": [
    "with sns.axes_style('white'):\n",
    "    j = sns.jointplot(\"monthly_charges\", \"total_charges\", data=train, kind='reg', height=5);\n",
    "    j.annotate(stats.pearsonr)\n",
    "plt.show()"
   ]
  },
  {
   "cell_type": "markdown",
   "metadata": {},
   "source": [
    "## Data Modeling "
   ]
  },
  {
   "cell_type": "code",
   "execution_count": 21,
   "metadata": {},
   "outputs": [
    {
     "data": {
      "text/plain": [
       "Month-to-month    3875\n",
       "Two year          1695\n",
       "One year          1473\n",
       "Name: contract_type, dtype: int64"
      ]
     },
     "execution_count": 21,
     "metadata": {},
     "output_type": "execute_result"
    }
   ],
   "source": [
    "\n"
   ]
  },
  {
   "cell_type": "markdown",
   "metadata": {},
   "source": []
  },
  {
   "cell_type": "markdown",
   "metadata": {},
   "source": [
    "## Project Overview\n",
    "\n",
    "### Background: \n",
    "\n",
    "\n",
    "Zillow wants to improve their Zestimate.  The zestimate is estimated value of a home.  Zillow theorizes that there is more information to be gained to improve its existing model.  Because of that, Zillow wants you to develop a model to predict the error between the Zestimate and the sales price of a home.  In predicting the error, you will discover features that will help them improve the Zestimate estimate itself.  Your goal of this project is to develop a linear regression model that will best predict the log error of the Zestimate.  The error is the difference of the sales price and the Zestimate.  The log error is computed by taking the log function of that error.  You don't need to worry about the fact that the error is of a logarithmic function.  It is a continuous number that represents an error rate. \n",
    "\n",
    "## Data Preparation\n",
    "\n",
    "1. Sample the data.  Why?  So you can confirm the data look like what you would expect.\n",
    "2. Create a variable, `colnames`, that is a list of the column names.  Why?  You will likely reference this variable later. \n",
    "3. Identify the data types of each variable.  Why? You need to make sure they are what makes sense for the data and the meaning of the data that lies in that variable.  If it does not, make necessary changes.  \n",
    "4. Compute the summary statistics for the variables.  Why?  The get a glimpse into outliers, skewness, spread, central tendency.  \n",
    "5. Identify the columns that have missing values and the number of missing values in each column. Why? Missing values are going to cause issues down the line so you will need to handle those appropriately.  For each variable with missing values, if it makes sense to replace those missing with a 0, do so.  For those where that doesn't make sense, decide if you should drop the entire observations (rows) that contain the missing values, or drop the entire variable (column) that contains the missing values. \n",
    "6. Create a list of the independent variable names (aka attributes) and assign it to the variable `attributes`. Why? During exploration, you will likely use this list to refer to the attribute names. \n",
    "7. Clearly identify your dependent (target) variable.  What is the name of the variable? Is it discrete or continuous?\n",
    "8. Plot a histogram and box plot of each variable.  Why?  To see the distribution, skewness, outliers, and unit scales.  You will use this information in your decision of whether to normalize, standardize or neither. \n",
    "9. Bonus: Create a new data frame that is the min-max normalization of the independent variable in the original data frame (+ the original dependent variable).  You will normalize each of the independent variables independently, i.e. using the min and max of each variable, not the min/max of the whole dataframe. Why?  Regression is very sensitive to difference in units.  It will be almost impossible to extract a meaningful linear regression model with such extreme differences in scale.  For more context, see: https://medium.com/@rrfd/standardize-or-normalize-examples-in-python-e3f174b65dfc\n",
    "\n",
    "\n",
    "## Data Exploration\n",
    "\n",
    "1. Split data into training and test datasets\n",
    "2. Address each of the questions you posed in your planning & brainstorming through visual or statistical analysis.  \n",
    "3. Create a jointplot for each independent variable (normalized version) with the dependent variable.  Use your for loop created in the exercises to run through the plotting of each independent variable.  Be sure you have Pearson's r and p-value annotated on each plot.  \n",
    "4. Create a feature plot using seaborn's PairGrid() of the interaction between each variable (dependent + independent).  You will want to use the normalized dataframe so you can more clearly view the interactions.  \n",
    "5. Create a heatmap of the correlation between each variable pair.  \n",
    "6. Summarize your conclusions from these steps. \n",
    "7. Is the logerror significantly different for homes with 3 bedrooms vs those with 5 or more bedrooms?  Run a t-test to test this difference.  \n",
    "8. Do the same for another 2 samples you are interested in comparing (e.g. those with 1 bath vs. x baths)\n",
    "\n",
    "## Data Modeling\n",
    "\n",
    "### Feature Engineering & Selection\n",
    "\n",
    "1. Are there new features you could create based on existing features that might be helpful?  Come up with at least one possible new feature that is a calculation from 2+ existing variables.  Add that feature and update the normalized dataframe with the min-max normalization of that feature. \n",
    "2. Use statsmodels ordinary least squares to assess the importance of each feature with respect to the target (using the normalized dataframe)\n",
    "3. Summarize your conclusions and next steps from your analysis in step 2.  What will you try when developing your model?  (which features to use/not use/etc)\n",
    "\n",
    "#### Train & Test Model\n",
    "\n",
    "1. Fit, predict (in-sample) & evaluate multiple linear regression models to find the best one.\n",
    "2. Make any changes as necessary to improve your model.\n",
    "3. Identify the best model after all training and predict & evaluate on out-of-sample data.  \n",
    "4. Plot the residuals from your out-of-sample predictions.  \n",
    "5. Summarize your expectations about how you estimate this model will perform in production."
   ]
  },
  {
   "cell_type": "markdown",
   "metadata": {},
   "source": [
    "# Linear Regression in Python\n",
    "\n",
    "\n",
    "## Goals\n",
    "\n",
    "### Learning Agenda\n",
    "\n",
    "Use Python (Pandas, Matplotlib, Scipy, Scikit-Learn) to perform regression\n",
    "\n",
    "### Example Challenge\n",
    "\n",
    "1. Predict students' final grades using the first exam of the semester\n",
    "2. Predict students' final grades using the first three exams of the semester\n",
    "\n",
    "## The Plan\n",
    "\n",
    "1. Prepare the Environment\n",
    "1. Pandas:  read a local csv\n",
    "2. Pandas:  sample and summarize\n",
    "3. Pandas:  ensure no null values\n",
    "4. SKlearn: split into test/train\n",
    "6. Matplotlib & Seaborn: Explore\n",
    "7. Scipy: Pearson's correlation\n",
    "8. Statsmodels: Feature Selection\n",
    "9. Scikit-Learn: Fit Linear Regression Models, In-Sample Predictions\n",
    "10. Scikit-Learn: In-Sample Evaluations\n",
    "11. Scikit-Learn: Make any changes needed & repeat 9-10 as needed\n",
    "12. Scikit-Learn: Out-of-sample predictions using best model\n",
    "13. Exercises"
   ]
  },
  {
   "cell_type": "markdown",
   "metadata": {},
   "source": [
    "### 1. Prepare the Environment"
   ]
  },
  {
   "cell_type": "code",
   "execution_count": 59,
   "metadata": {},
   "outputs": [],
   "source": [
    "# ignore warnings\n",
    "import warnings\n",
    "warnings.filterwarnings(\"ignore\")\n",
    "\n",
    "# Wrangling\n",
    "import pandas as pd\n",
    "\n",
    "# Exploring\n",
    "import scipy.stats as stats\n",
    "\n",
    "# Visualizing\n",
    "%matplotlib inline\n",
    "import matplotlib.pyplot as plt\n",
    "import seaborn as sns\n",
    "plt.style.use('classic')\n",
    "\n",
    "# Modeling\n",
    "import statsmodels.api as sm\n",
    "\n",
    "from scipy.stats import pearsonr\n",
    "\n",
    "from sklearn.model_selection import train_test_split\n",
    "from sklearn.linear_model import LinearRegression\n",
    "from sklearn.metrics import mean_squared_error, r2_score, mean_absolute_error, median_absolute_error"
   ]
  },
  {
   "cell_type": "markdown",
   "metadata": {},
   "source": [
    "### 2. Pandas:  read a local csv"
   ]
  },
  {
   "cell_type": "code",
   "execution_count": 60,
   "metadata": {},
   "outputs": [],
   "source": [
    "path = './'\n",
    "df = pd.read_csv(path + \"student_grades.csv\")"
   ]
  },
  {
   "cell_type": "markdown",
   "metadata": {},
   "source": [
    "### 3. Pandas:  sample and summarize"
   ]
  },
  {
   "cell_type": "code",
   "execution_count": 61,
   "metadata": {},
   "outputs": [
    {
     "data": {
      "text/html": [
       "<div>\n",
       "<style scoped>\n",
       "    .dataframe tbody tr th:only-of-type {\n",
       "        vertical-align: middle;\n",
       "    }\n",
       "\n",
       "    .dataframe tbody tr th {\n",
       "        vertical-align: top;\n",
       "    }\n",
       "\n",
       "    .dataframe thead th {\n",
       "        text-align: right;\n",
       "    }\n",
       "</style>\n",
       "<table border=\"1\" class=\"dataframe\">\n",
       "  <thead>\n",
       "    <tr style=\"text-align: right;\">\n",
       "      <th></th>\n",
       "      <th>student_id</th>\n",
       "      <th>exam1</th>\n",
       "      <th>exam2</th>\n",
       "      <th>exam3</th>\n",
       "      <th>final_grade</th>\n",
       "    </tr>\n",
       "  </thead>\n",
       "  <tbody>\n",
       "    <tr>\n",
       "      <th>0</th>\n",
       "      <td>1</td>\n",
       "      <td>100</td>\n",
       "      <td>90</td>\n",
       "      <td>95</td>\n",
       "      <td>96</td>\n",
       "    </tr>\n",
       "    <tr>\n",
       "      <th>1</th>\n",
       "      <td>2</td>\n",
       "      <td>98</td>\n",
       "      <td>93</td>\n",
       "      <td>96</td>\n",
       "      <td>95</td>\n",
       "    </tr>\n",
       "    <tr>\n",
       "      <th>2</th>\n",
       "      <td>3</td>\n",
       "      <td>85</td>\n",
       "      <td>83</td>\n",
       "      <td>87</td>\n",
       "      <td>87</td>\n",
       "    </tr>\n",
       "    <tr>\n",
       "      <th>3</th>\n",
       "      <td>4</td>\n",
       "      <td>83</td>\n",
       "      <td>80</td>\n",
       "      <td>86</td>\n",
       "      <td>85</td>\n",
       "    </tr>\n",
       "    <tr>\n",
       "      <th>4</th>\n",
       "      <td>5</td>\n",
       "      <td>93</td>\n",
       "      <td>90</td>\n",
       "      <td>96</td>\n",
       "      <td>97</td>\n",
       "    </tr>\n",
       "  </tbody>\n",
       "</table>\n",
       "</div>"
      ],
      "text/plain": [
       "   student_id  exam1  exam2  exam3  final_grade\n",
       "0           1    100     90     95           96\n",
       "1           2     98     93     96           95\n",
       "2           3     85     83     87           87\n",
       "3           4     83     80     86           85\n",
       "4           5     93     90     96           97"
      ]
     },
     "execution_count": 61,
     "metadata": {},
     "output_type": "execute_result"
    }
   ],
   "source": [
    "df.head()"
   ]
  },
  {
   "cell_type": "code",
   "execution_count": 62,
   "metadata": {},
   "outputs": [
    {
     "data": {
      "text/plain": [
       "(104, 5)"
      ]
     },
     "execution_count": 62,
     "metadata": {},
     "output_type": "execute_result"
    }
   ],
   "source": [
    "df.shape"
   ]
  },
  {
   "cell_type": "code",
   "execution_count": 63,
   "metadata": {},
   "outputs": [
    {
     "data": {
      "text/html": [
       "<div>\n",
       "<style scoped>\n",
       "    .dataframe tbody tr th:only-of-type {\n",
       "        vertical-align: middle;\n",
       "    }\n",
       "\n",
       "    .dataframe tbody tr th {\n",
       "        vertical-align: top;\n",
       "    }\n",
       "\n",
       "    .dataframe thead th {\n",
       "        text-align: right;\n",
       "    }\n",
       "</style>\n",
       "<table border=\"1\" class=\"dataframe\">\n",
       "  <thead>\n",
       "    <tr style=\"text-align: right;\">\n",
       "      <th></th>\n",
       "      <th>student_id</th>\n",
       "      <th>exam1</th>\n",
       "      <th>exam2</th>\n",
       "      <th>exam3</th>\n",
       "      <th>final_grade</th>\n",
       "    </tr>\n",
       "  </thead>\n",
       "  <tbody>\n",
       "    <tr>\n",
       "      <th>count</th>\n",
       "      <td>104.000000</td>\n",
       "      <td>104.000000</td>\n",
       "      <td>104.000000</td>\n",
       "      <td>104.000000</td>\n",
       "      <td>104.000000</td>\n",
       "    </tr>\n",
       "    <tr>\n",
       "      <th>mean</th>\n",
       "      <td>52.500000</td>\n",
       "      <td>78.461538</td>\n",
       "      <td>77.307692</td>\n",
       "      <td>84.153846</td>\n",
       "      <td>81.692308</td>\n",
       "    </tr>\n",
       "    <tr>\n",
       "      <th>std</th>\n",
       "      <td>30.166206</td>\n",
       "      <td>14.284844</td>\n",
       "      <td>10.295703</td>\n",
       "      <td>8.714199</td>\n",
       "      <td>10.918122</td>\n",
       "    </tr>\n",
       "    <tr>\n",
       "      <th>min</th>\n",
       "      <td>1.000000</td>\n",
       "      <td>57.000000</td>\n",
       "      <td>65.000000</td>\n",
       "      <td>70.000000</td>\n",
       "      <td>65.000000</td>\n",
       "    </tr>\n",
       "    <tr>\n",
       "      <th>25%</th>\n",
       "      <td>26.750000</td>\n",
       "      <td>70.000000</td>\n",
       "      <td>70.000000</td>\n",
       "      <td>78.000000</td>\n",
       "      <td>72.000000</td>\n",
       "    </tr>\n",
       "    <tr>\n",
       "      <th>50%</th>\n",
       "      <td>52.500000</td>\n",
       "      <td>79.000000</td>\n",
       "      <td>75.000000</td>\n",
       "      <td>85.000000</td>\n",
       "      <td>81.000000</td>\n",
       "    </tr>\n",
       "    <tr>\n",
       "      <th>75%</th>\n",
       "      <td>78.250000</td>\n",
       "      <td>92.000000</td>\n",
       "      <td>89.000000</td>\n",
       "      <td>94.000000</td>\n",
       "      <td>93.000000</td>\n",
       "    </tr>\n",
       "    <tr>\n",
       "      <th>max</th>\n",
       "      <td>104.000000</td>\n",
       "      <td>100.000000</td>\n",
       "      <td>93.000000</td>\n",
       "      <td>96.000000</td>\n",
       "      <td>97.000000</td>\n",
       "    </tr>\n",
       "  </tbody>\n",
       "</table>\n",
       "</div>"
      ],
      "text/plain": [
       "       student_id       exam1       exam2       exam3  final_grade\n",
       "count  104.000000  104.000000  104.000000  104.000000   104.000000\n",
       "mean    52.500000   78.461538   77.307692   84.153846    81.692308\n",
       "std     30.166206   14.284844   10.295703    8.714199    10.918122\n",
       "min      1.000000   57.000000   65.000000   70.000000    65.000000\n",
       "25%     26.750000   70.000000   70.000000   78.000000    72.000000\n",
       "50%     52.500000   79.000000   75.000000   85.000000    81.000000\n",
       "75%     78.250000   92.000000   89.000000   94.000000    93.000000\n",
       "max    104.000000  100.000000   93.000000   96.000000    97.000000"
      ]
     },
     "execution_count": 63,
     "metadata": {},
     "output_type": "execute_result"
    }
   ],
   "source": [
    "df.describe()"
   ]
  },
  {
   "cell_type": "markdown",
   "metadata": {},
   "source": [
    "> ### Exercise\n",
    "Extract information from the results of describe in order to compute IQR and range\n",
    "> ```python\n",
    "> IQR = \n",
    "> Range = \n",
    "> ```"
   ]
  },
  {
   "cell_type": "code",
   "execution_count": 64,
   "metadata": {},
   "outputs": [
    {
     "name": "stdout",
     "output_type": "stream",
     "text": [
      "<class 'pandas.core.frame.DataFrame'>\n",
      "RangeIndex: 104 entries, 0 to 103\n",
      "Data columns (total 5 columns):\n",
      "student_id     104 non-null int64\n",
      "exam1          104 non-null int64\n",
      "exam2          104 non-null int64\n",
      "exam3          104 non-null int64\n",
      "final_grade    104 non-null int64\n",
      "dtypes: int64(5)\n",
      "memory usage: 4.1 KB\n"
     ]
    }
   ],
   "source": [
    "df.info()"
   ]
  },
  {
   "cell_type": "markdown",
   "metadata": {},
   "source": [
    "### 4. Pandas:  ensure no null values\n",
    "\n",
    "The above can tell you something about missing values when you compare the *entries* with each fields *non-null* values.  You can also do this for a more direct compuation:"
   ]
  },
  {
   "cell_type": "code",
   "execution_count": 65,
   "metadata": {},
   "outputs": [
    {
     "name": "stdout",
     "output_type": "stream",
     "text": [
      "student_id     0\n",
      "exam1          0\n",
      "exam2          0\n",
      "exam3          0\n",
      "final_grade    0\n",
      "dtype: int64\n"
     ]
    }
   ],
   "source": [
    "print(df.isnull().sum())\n",
    "\n",
    "# or  print(df.columns[df.isnull().any()])"
   ]
  },
  {
   "cell_type": "markdown",
   "metadata": {},
   "source": [
    "### 5. Distribution, Skewness, Normalization & Standardization\n",
    "\n",
    "Plot histograms &/or boxplots to see the distribution, skewness, outliers, and unit scales.  You will use this information in your decision of whether to normalize, standardize or neither. \n",
    "\n",
    "#### Histogram\n",
    "\n",
    "There are 2 ways we can go about plotting histograms for multiple variables. \n",
    "\n",
    "1. melt the data frame into a long data set and use seaborn's 'FacetGrid' to plot each histogram quickly.\n",
    "2. use matplotlib with subplots"
   ]
  },
  {
   "cell_type": "markdown",
   "metadata": {},
   "source": [
    "##### Melt data and use FacetGrid to plot histogram"
   ]
  },
  {
   "cell_type": "code",
   "execution_count": 66,
   "metadata": {},
   "outputs": [],
   "source": [
    "# we will create a melted version of train for visualization purposes\n",
    "df_melted = pd.melt(df, id_vars=['student_id'], value_vars=['exam1','exam2','exam3','final_grade'], \n",
    "                    var_name='grade_type', value_name='score')"
   ]
  },
  {
   "cell_type": "code",
   "execution_count": 67,
   "metadata": {},
   "outputs": [
    {
     "data": {
      "text/plain": [
       "exam3          104\n",
       "final_grade    104\n",
       "exam2          104\n",
       "exam1          104\n",
       "Name: grade_type, dtype: int64"
      ]
     },
     "execution_count": 67,
     "metadata": {},
     "output_type": "execute_result"
    }
   ],
   "source": [
    "df_melted['grade_type'].value_counts()"
   ]
  },
  {
   "cell_type": "code",
   "execution_count": 68,
   "metadata": {},
   "outputs": [
    {
     "data": {
      "text/plain": [
       "(56.956, 61.3]    16\n",
       "(61.3, 65.6]      40\n",
       "(65.6, 69.9]       8\n",
       "(69.9, 74.2]      72\n",
       "(74.2, 78.5]      56\n",
       "(78.5, 82.8]      32\n",
       "(82.8, 87.1]      64\n",
       "(87.1, 91.4]      24\n",
       "(91.4, 95.7]      56\n",
       "(95.7, 100.0]     48\n",
       "Name: score, dtype: int64"
      ]
     },
     "execution_count": 68,
     "metadata": {},
     "output_type": "execute_result"
    }
   ],
   "source": [
    "df_melted['score'].value_counts(bins=10, sort=False)"
   ]
  },
  {
   "cell_type": "code",
   "execution_count": 69,
   "metadata": {},
   "outputs": [
    {
     "data": {
      "image/png": "[encoded data removed]",
      "text/plain": [
       "<Figure size 960x240 with 4 Axes>"
      ]
     },
     "metadata": {},
     "output_type": "display_data"
    }
   ],
   "source": [
    "# Histogram\n",
    "grid = sns.FacetGrid(df_melted, col=\"grade_type\", margin_titles=True)\n",
    "grid.map(plt.hist, \"score\", bins=20);"
   ]
  },
  {
   "cell_type": "code",
   "execution_count": 70,
   "metadata": {},
   "outputs": [
    {
     "data": {
      "image/png": "[encoded data removed]",
      "text/plain": [
       "<Figure size 960x240 with 4 Axes>"
      ]
     },
     "metadata": {},
     "output_type": "display_data"
    }
   ],
   "source": [
    "grid = sns.FacetGrid(df_melted, col=\"grade_type\", margin_titles=True)\n",
    "grid.map(plt.hist, \"score\", bins=10);"
   ]
  },
  {
   "cell_type": "markdown",
   "metadata": {},
   "source": [
    "##### Using matplotlib with subplots"
   ]
  },
  {
   "cell_type": "code",
   "execution_count": 71,
   "metadata": {},
   "outputs": [
    {
     "data": {
      "image/png": "[encoded data removed]",
      "text/plain": [
       "<Figure size 1280x800 with 4 Axes>"
      ]
     },
     "metadata": {},
     "output_type": "display_data"
    }
   ],
   "source": [
    "plt.figure(figsize=(16, 10))\n",
    "\n",
    "for i, col in enumerate(['exam1', 'exam2', 'exam3', 'final_grade']):  \n",
    "    plot_number = i + 1 # i starts at 0, but plot nos should start at 1\n",
    "    series = df[col]  \n",
    "    plt.subplot(2, 2, plot_number)\n",
    "    plt.title(col)\n",
    "    series.hist(bins=20, density=False, cumulative=False, log=False)"
   ]
  },
  {
   "cell_type": "markdown",
   "metadata": {},
   "source": [
    "Look at the above loop step by step. \n",
    "\n",
    "> 1. enumerate"
   ]
  },
  {
   "cell_type": "code",
   "execution_count": 72,
   "metadata": {},
   "outputs": [
    {
     "name": "stdout",
     "output_type": "stream",
     "text": [
      "[(0, 'exam1'), (1, 'exam2'), (2, 'exam3'), (3, 'final_grade')]\n",
      "(0, 'exam1')\n",
      "0\n"
     ]
    }
   ],
   "source": [
    "ix_col_list = list(enumerate(['exam1', 'exam2', 'exam3', 'final_grade']))\n",
    "print(for_list)\n",
    "ex1_ix_col_tuple = for_list[0]\n",
    "print(ex1_ix_col_tuple) \n",
    "ex1_index = ex1_ix_col_tuple[0]\n",
    "print(ex1_index)"
   ]
  },
  {
   "cell_type": "markdown",
   "metadata": {},
   "source": [
    "> 2. Assign the first index, 0, to i\n",
    "> 3. Assign the first column name, 'exam1', to col"
   ]
  },
  {
   "cell_type": "code",
   "execution_count": 73,
   "metadata": {},
   "outputs": [
    {
     "name": "stdout",
     "output_type": "stream",
     "text": [
      "The first item of the tuple is the index.  The first index = 0\n",
      "The second item of the tuple is the column name.  The first column name = exam1\n"
     ]
    }
   ],
   "source": [
    "i = ex1_ix_col_tuple[0]\n",
    "print(\"The first item of the tuple is the index.  The first index = %.0f\" % i)\n",
    "col = ex1_ix_col_tuple[1]\n",
    "print(\"The second item of the tuple is the column name.  The first column name = %s\" % col)"
   ]
  },
  {
   "cell_type": "markdown",
   "metadata": {},
   "source": [
    "> 4. Using index = 0 and column of 'exam1', assign the variable plot_number to the first plot (1), and create a series of all the values. "
   ]
  },
  {
   "cell_type": "code",
   "execution_count": 74,
   "metadata": {},
   "outputs": [
    {
     "name": "stdout",
     "output_type": "stream",
     "text": [
      "plot_number: 1\n",
      "Number of grades in the series: 104\n",
      "0    100\n",
      "1     98\n",
      "2     85\n",
      "3     83\n",
      "4     93\n",
      "Name: exam1, dtype: int64\n"
     ]
    }
   ],
   "source": [
    "plot_number = i + 1 # i starts at 0, but plot nos should start at 1\n",
    "print(\"plot_number: %.0f\" % plot_number)\n",
    "series = df[col]\n",
    "print(\"Number of grades in the series: %.0f\" % series.shape[0])\n",
    "print(series.head())"
   ]
  },
  {
   "cell_type": "markdown",
   "metadata": {},
   "source": [
    "> 5. Create the subplot object"
   ]
  },
  {
   "cell_type": "code",
   "execution_count": 75,
   "metadata": {},
   "outputs": [
    {
     "data": {
      "text/plain": [
       "<matplotlib.axes._subplots.AxesSubplot at 0x1c1b8432e8>"
      ]
     },
     "execution_count": 75,
     "metadata": {},
     "output_type": "execute_result"
    },
    {
     "data": {
      "image/png": "[encoded data removed]",
      "text/plain": [
       "<Figure size 640x480 with 1 Axes>"
      ]
     },
     "metadata": {},
     "output_type": "display_data"
    }
   ],
   "source": [
    "plt.subplot(2, 2, plot_number) # plot number = 1"
   ]
  },
  {
   "cell_type": "markdown",
   "metadata": {},
   "source": [
    "> 6. Add the title"
   ]
  },
  {
   "cell_type": "code",
   "execution_count": 76,
   "metadata": {},
   "outputs": [
    {
     "data": {
      "text/plain": [
       "Text(0.5, 1.0, 'exam1')"
      ]
     },
     "execution_count": 76,
     "metadata": {},
     "output_type": "execute_result"
    },
    {
     "data": {
      "image/png": "[encoded data removed]",
      "text/plain": [
       "<Figure size 640x480 with 1 Axes>"
      ]
     },
     "metadata": {},
     "output_type": "display_data"
    }
   ],
   "source": [
    "plt.subplot(2, 2, plot_number) # plot number = 1\n",
    "plt.title(col) # plot title = 'exam1'"
   ]
  },
  {
   "cell_type": "markdown",
   "metadata": {},
   "source": [
    "> 7. Add the histogram"
   ]
  },
  {
   "cell_type": "code",
   "execution_count": 77,
   "metadata": {},
   "outputs": [
    {
     "data": {
      "text/plain": [
       "<matplotlib.axes._subplots.AxesSubplot at 0x1c1a8e4390>"
      ]
     },
     "execution_count": 77,
     "metadata": {},
     "output_type": "execute_result"
    },
    {
     "data": {
      "image/png": "[encoded data removed]",
      "text/plain": [
       "<Figure size 640x480 with 1 Axes>"
      ]
     },
     "metadata": {},
     "output_type": "display_data"
    }
   ],
   "source": [
    "plt.subplot(2, 2, plot_number) # plot number = 1\n",
    "plt.title(col) # plot title = 'exam1'\n",
    "series.hist(bins=20, density=False, cumulative=False, log=False) # plot the histogram"
   ]
  },
  {
   "cell_type": "markdown",
   "metadata": {},
   "source": [
    "#### Box Plot\n",
    "\n",
    "seaborn will default to plotting *all* the numeric variables if we don't specify specific x and y values. This is the behavior we want, except we don't want to plot the `student_id` column.\n",
    "\n",
    "We'll use the `.drop` method to remove the `student_id` column from the data frame. Recall that `.drop` will produce a new data frame without the specified column(s), but will not modify the original data frame."
   ]
  },
  {
   "cell_type": "code",
   "execution_count": 78,
   "metadata": {},
   "outputs": [
    {
     "data": {
      "text/html": [
       "<div>\n",
       "<style scoped>\n",
       "    .dataframe tbody tr th:only-of-type {\n",
       "        vertical-align: middle;\n",
       "    }\n",
       "\n",
       "    .dataframe tbody tr th {\n",
       "        vertical-align: top;\n",
       "    }\n",
       "\n",
       "    .dataframe thead th {\n",
       "        text-align: right;\n",
       "    }\n",
       "</style>\n",
       "<table border=\"1\" class=\"dataframe\">\n",
       "  <thead>\n",
       "    <tr style=\"text-align: right;\">\n",
       "      <th></th>\n",
       "      <th>exam1</th>\n",
       "      <th>exam2</th>\n",
       "      <th>exam3</th>\n",
       "      <th>final_grade</th>\n",
       "    </tr>\n",
       "  </thead>\n",
       "  <tbody>\n",
       "    <tr>\n",
       "      <th>0</th>\n",
       "      <td>100</td>\n",
       "      <td>90</td>\n",
       "      <td>95</td>\n",
       "      <td>96</td>\n",
       "    </tr>\n",
       "    <tr>\n",
       "      <th>1</th>\n",
       "      <td>98</td>\n",
       "      <td>93</td>\n",
       "      <td>96</td>\n",
       "      <td>95</td>\n",
       "    </tr>\n",
       "    <tr>\n",
       "      <th>2</th>\n",
       "      <td>85</td>\n",
       "      <td>83</td>\n",
       "      <td>87</td>\n",
       "      <td>87</td>\n",
       "    </tr>\n",
       "    <tr>\n",
       "      <th>3</th>\n",
       "      <td>83</td>\n",
       "      <td>80</td>\n",
       "      <td>86</td>\n",
       "      <td>85</td>\n",
       "    </tr>\n",
       "    <tr>\n",
       "      <th>4</th>\n",
       "      <td>93</td>\n",
       "      <td>90</td>\n",
       "      <td>96</td>\n",
       "      <td>97</td>\n",
       "    </tr>\n",
       "  </tbody>\n",
       "</table>\n",
       "</div>"
      ],
      "text/plain": [
       "   exam1  exam2  exam3  final_grade\n",
       "0    100     90     95           96\n",
       "1     98     93     96           95\n",
       "2     85     83     87           87\n",
       "3     83     80     86           85\n",
       "4     93     90     96           97"
      ]
     },
     "execution_count": 78,
     "metadata": {},
     "output_type": "execute_result"
    }
   ],
   "source": [
    "df.drop(columns=['student_id']).head()"
   ]
  },
  {
   "cell_type": "code",
   "execution_count": 79,
   "metadata": {},
   "outputs": [
    {
     "data": {
      "text/plain": [
       "<matplotlib.axes._subplots.AxesSubplot at 0x1c1a478240>"
      ]
     },
     "execution_count": 79,
     "metadata": {},
     "output_type": "execute_result"
    },
    {
     "data": {
      "image/png": "[encoded data removed]",
      "text/plain": [
       "<Figure size 640x320 with 1 Axes>"
      ]
     },
     "metadata": {},
     "output_type": "display_data"
    }
   ],
   "source": [
    "plt.figure(figsize=(8,4))\n",
    "sns.boxplot(data=df.drop(columns=['student_id']))"
   ]
  },
  {
   "cell_type": "markdown",
   "metadata": {},
   "source": [
    "### 6. SKlearn: split into test/train"
   ]
  },
  {
   "cell_type": "code",
   "execution_count": 99,
   "metadata": {},
   "outputs": [
    {
     "name": "stdout",
     "output_type": "stream",
     "text": [
      "   exam1  exam2  exam3\n",
      "0    100     90     95\n",
      "1     98     93     96\n",
      "2     85     83     87\n",
      "3     83     80     86\n",
      "4     93     90     96\n",
      "   final_grade\n",
      "0           96\n",
      "1           95\n",
      "2           87\n",
      "3           85\n",
      "4           97\n"
     ]
    }
   ],
   "source": [
    "# test_train_split\n",
    "X = df.drop(['final_grade','student_id'], axis=1)\n",
    "print(X.head())\n",
    "\n",
    "y = df[['final_grade']]\n",
    "print(y.head())"
   ]
  },
  {
   "cell_type": "code",
   "execution_count": 100,
   "metadata": {},
   "outputs": [],
   "source": [
    "X_train, X_test, y_train, y_test = train_test_split(X, y, train_size=.80, random_state=0)"
   ]
  },
  {
   "cell_type": "code",
   "execution_count": 117,
   "metadata": {},
   "outputs": [
    {
     "name": "stdout",
     "output_type": "stream",
     "text": [
      "Train columns:  ['exam1', 'exam2', 'exam3', 'final_grade']\n",
      "Train dimensions (rows, columns): (83, 4)\n"
     ]
    }
   ],
   "source": [
    "train = pd.concat([X_train, y_train], axis=1)\n",
    "print(\"Train columns:  %s\" % list(train.columns))\n",
    "print(\"Train dimensions (rows, columns):\", train.shape)"
   ]
  },
  {
   "cell_type": "code",
   "execution_count": 118,
   "metadata": {},
   "outputs": [
    {
     "name": "stdout",
     "output_type": "stream",
     "text": [
      "Test columns:  ['exam1', 'exam2', 'exam3', 'final_grade']\n",
      "Test dimensions (rows, columns): (21, 4)\n"
     ]
    }
   ],
   "source": [
    "test = pd.concat([X_test, y_test], axis=1)\n",
    "print(\"Test columns:  %s\" % list(test.columns))\n",
    "print(\"Test dimensions (rows, columns):\", test.shape)"
   ]
  },
  {
   "cell_type": "markdown",
   "metadata": {},
   "source": [
    "Below we show some python code that validates that the splits are what we would expect. That is, we ensure that:\n",
    "\n",
    "- the number of rows in both the x and y training data set are equal\n",
    "- the number of rows in both the x and y testing data set are equal\n",
    "- the number of columns in the training and test data sets are the same\n",
    "- the training data set is 80% of the original data, the test set is 20%"
   ]
  },
  {
   "cell_type": "code",
   "execution_count": 119,
   "metadata": {},
   "outputs": [
    {
     "name": "stdout",
     "output_type": "stream",
     "text": [
      "X & y train rows ARE equal\n",
      "X & y test rows ARE equal\n",
      "Number of columns in train & test ARE equal\n",
      "Train Split: 0.80\n",
      "Test Split: 0.20\n"
     ]
    }
   ],
   "source": [
    "if X_train.shape[0] == y_train.shape[0]:\n",
    "    print(\"X & y train rows ARE equal\")\n",
    "else:\n",
    "    print(\"X & y train rows ARE NOT equal\")\n",
    "\n",
    "\n",
    "if X_test.shape[0] == y_test.shape[0]:\n",
    "    print(\"X & y test rows ARE equal\")\n",
    "else:\n",
    "    print(\"X & y test rows ARE NOT equal\")\n",
    "\n",
    "if train.shape[1] == test.shape[1]:\n",
    "    print(\"Number of columns in train & test ARE equal\")\n",
    "else:\n",
    "    print(\"Number of columns in train & test ARE NOT equal\")\n",
    " \n",
    "train_split = train.shape[0] / (train.shape[0] + test.shape[0])\n",
    "test_split = test.shape[0] / (train.shape[0] + test.shape[0])\n",
    "\n",
    "print(\"Train Split: %.2f\" % train_split)\n",
    "print(\"Test Split: %.2f\" % test_split)"
   ]
  },
  {
   "cell_type": "markdown",
   "metadata": {},
   "source": [
    "### 7. Matplotlib & Seaborn: Explore\n",
    "\n",
    "- Graphs are many and are quickly made\n",
    "- Axis and labels are cleaned up later\n",
    "- Color and size are used for information, not asthetics\n",
    "- Graph types include box plts, heatmaps, histograms, density plots, feature or correlation plots  \n"
   ]
  },
  {
   "cell_type": "markdown",
   "metadata": {},
   "source": [
    "1. Jointplot: Scatterplot with Density Plots\n",
    "2. PairGrid: Scatterplots with Histograms\n",
    "3. Heatmap"
   ]
  },
  {
   "cell_type": "markdown",
   "metadata": {},
   "source": [
    "#### Scatterplot + Density Plots"
   ]
  },
  {
   "cell_type": "code",
   "execution_count": 120,
   "metadata": {},
   "outputs": [
    {
     "data": {
      "image/png": "[encoded data removed]",
      "text/plain": [
       "<Figure size 400x400 with 3 Axes>"
      ]
     },
     "metadata": {},
     "output_type": "display_data"
    }
   ],
   "source": [
    "with sns.axes_style('white'):\n",
    "    j = sns.jointplot(\"exam1\", \"final_grade\", data=train, kind='reg', height=5);\n",
    "    j.annotate(stats.pearsonr)\n",
    "plt.show()"
   ]
  },
  {
   "cell_type": "markdown",
   "metadata": {},
   "source": [
    "### 7.1_Exercise\n",
    "\n",
    "1. Write a for loop to plot each of the 3 features with final_grade using a jointplot.\n",
    "2. What can you say about each relationship (using pearson's r and the p-value)"
   ]
  },
  {
   "cell_type": "markdown",
   "metadata": {},
   "source": [
    "#### Histogram + Scatterplots"
   ]
  },
  {
   "cell_type": "code",
   "execution_count": 121,
   "metadata": {},
   "outputs": [
    {
     "data": {
      "image/png": "[encoded data removed]",
      "text/plain": [
       "<Figure size 800x800 with 20 Axes>"
      ]
     },
     "metadata": {},
     "output_type": "display_data"
    }
   ],
   "source": [
    "# This is roughly equivalent to sns.jointplot, but we see here that we have the\n",
    "# flexibility to customize the type of the plots in each position.\n",
    "\n",
    "g = sns.PairGrid(train)\n",
    "g.map_diag(plt.hist)\n",
    "g.map_offdiag(plt.scatter);"
   ]
  },
  {
   "cell_type": "markdown",
   "metadata": {},
   "source": [
    "#### Heatmap"
   ]
  },
  {
   "cell_type": "code",
   "execution_count": 122,
   "metadata": {},
   "outputs": [
    {
     "data": {
      "text/plain": [
       "<matplotlib.axes._subplots.AxesSubplot at 0x1c1d1578d0>"
      ]
     },
     "execution_count": 122,
     "metadata": {},
     "output_type": "execute_result"
    },
    {
     "data": {
      "image/png": "[encoded data removed]",
      "text/plain": [
       "<Figure size 640x320 with 2 Axes>"
      ]
     },
     "metadata": {},
     "output_type": "display_data"
    }
   ],
   "source": [
    "plt.figure(figsize=(8,4))\n",
    "sns.heatmap(train.corr(), cmap='Blues', annot=True)"
   ]
  },
  {
   "cell_type": "markdown",
   "metadata": {},
   "source": [
    "### 7.2_Exercise\n",
    "\n",
    "1. Plot a boxplot and heatmap side by side using subplots"
   ]
  },
  {
   "cell_type": "markdown",
   "metadata": {},
   "source": [
    "### 8. Scipy: Pearson's Correlation\n",
    "\n",
    "#### stats.pearsonr"
   ]
  },
  {
   "cell_type": "code",
   "execution_count": 123,
   "metadata": {},
   "outputs": [
    {
     "data": {
      "text/plain": [
       "(array([0.98548827]), array([3.67959731e-64]))"
      ]
     },
     "execution_count": 123,
     "metadata": {},
     "output_type": "execute_result"
    }
   ],
   "source": [
    "pearsonr(X_train[['exam1']], y_train)"
   ]
  },
  {
   "cell_type": "markdown",
   "metadata": {},
   "source": [
    "#### List Comprehension "
   ]
  },
  {
   "cell_type": "code",
   "execution_count": 124,
   "metadata": {},
   "outputs": [
    {
     "data": {
      "text/plain": [
       "[['exam1', (0.9854882734738365, 3.679597306767771e-64)],\n",
       " ['exam2', (0.9260773842724218, 4.9387065956533756e-36)],\n",
       " ['exam3', (0.9604227932900589, 1.0003417783597307e-46)]]"
      ]
     },
     "execution_count": 124,
     "metadata": {},
     "output_type": "execute_result"
    }
   ],
   "source": [
    "[[column, pearsonr(train[column], train.final_grade)] for column in X_train] "
   ]
  },
  {
   "cell_type": "markdown",
   "metadata": {},
   "source": [
    "#### Create Dictionary"
   ]
  },
  {
   "cell_type": "code",
   "execution_count": 125,
   "metadata": {},
   "outputs": [
    {
     "data": {
      "text/plain": [
       "{'exam1': (0.9854882734738365, 3.679597306767771e-64),\n",
       " 'exam2': (0.9260773842724218, 4.9387065956533756e-36),\n",
       " 'exam3': (0.9604227932900589, 1.0003417783597307e-46)}"
      ]
     },
     "execution_count": 125,
     "metadata": {},
     "output_type": "execute_result"
    }
   ],
   "source": [
    "column_names = X_train.columns\n",
    "r_and_p_values = [pearsonr(X_train[col], y_train.final_grade) for col in column_names]\n",
    "\n",
    "exam_final_corr_dict = dict(zip(column_names, r_and_p_values))\n",
    "exam_final_corr_dict"
   ]
  },
  {
   "cell_type": "markdown",
   "metadata": {},
   "source": [
    "### 9. Statsmodels: Feature Selection\n",
    "\n",
    "#### Feature selection using statsmodels.OLS (Ordinary Least Squares)\n",
    "\n"
   ]
  },
  {
   "cell_type": "code",
   "execution_count": 127,
   "metadata": {},
   "outputs": [
    {
     "data": {
      "text/html": [
       "<table class=\"simpletable\">\n",
       "<caption>OLS Regression Results</caption>\n",
       "<tr>\n",
       "  <th>Dep. Variable:</th>       <td>final_grade</td>   <th>  R-squared:         </th> <td>   0.999</td> \n",
       "</tr>\n",
       "<tr>\n",
       "  <th>Model:</th>                   <td>OLS</td>       <th>  Adj. R-squared:    </th> <td>   0.999</td> \n",
       "</tr>\n",
       "<tr>\n",
       "  <th>Method:</th>             <td>Least Squares</td>  <th>  F-statistic:       </th> <td>5.103e+04</td>\n",
       "</tr>\n",
       "<tr>\n",
       "  <th>Date:</th>             <td>Tue, 19 Mar 2019</td> <th>  Prob (F-statistic):</th> <td>3.76e-131</td>\n",
       "</tr>\n",
       "<tr>\n",
       "  <th>Time:</th>                 <td>12:03:33</td>     <th>  Log-Likelihood:    </th> <td> -170.25</td> \n",
       "</tr>\n",
       "<tr>\n",
       "  <th>No. Observations:</th>      <td>    83</td>      <th>  AIC:               </th> <td>   346.5</td> \n",
       "</tr>\n",
       "<tr>\n",
       "  <th>Df Residuals:</th>          <td>    80</td>      <th>  BIC:               </th> <td>   353.8</td> \n",
       "</tr>\n",
       "<tr>\n",
       "  <th>Df Model:</th>              <td>     3</td>      <th>                     </th>     <td> </td>    \n",
       "</tr>\n",
       "<tr>\n",
       "  <th>Covariance Type:</th>      <td>nonrobust</td>    <th>                     </th>     <td> </td>    \n",
       "</tr>\n",
       "</table>\n",
       "<table class=\"simpletable\">\n",
       "<tr>\n",
       "    <td></td>       <th>coef</th>     <th>std err</th>      <th>t</th>      <th>P>|t|</th>  <th>[0.025</th>    <th>0.975]</th>  \n",
       "</tr>\n",
       "<tr>\n",
       "  <th>exam1</th> <td>    0.4555</td> <td>    0.036</td> <td>   12.625</td> <td> 0.000</td> <td>    0.384</td> <td>    0.527</td>\n",
       "</tr>\n",
       "<tr>\n",
       "  <th>exam2</th> <td>   -0.0307</td> <td>    0.063</td> <td>   -0.486</td> <td> 0.629</td> <td>   -0.157</td> <td>    0.095</td>\n",
       "</tr>\n",
       "<tr>\n",
       "  <th>exam3</th> <td>    0.5728</td> <td>    0.049</td> <td>   11.633</td> <td> 0.000</td> <td>    0.475</td> <td>    0.671</td>\n",
       "</tr>\n",
       "</table>\n",
       "<table class=\"simpletable\">\n",
       "<tr>\n",
       "  <th>Omnibus:</th>       <td>30.491</td> <th>  Durbin-Watson:     </th> <td>   1.957</td>\n",
       "</tr>\n",
       "<tr>\n",
       "  <th>Prob(Omnibus):</th> <td> 0.000</td> <th>  Jarque-Bera (JB):  </th> <td>   7.671</td>\n",
       "</tr>\n",
       "<tr>\n",
       "  <th>Skew:</th>          <td> 0.427</td> <th>  Prob(JB):          </th> <td>  0.0216</td>\n",
       "</tr>\n",
       "<tr>\n",
       "  <th>Kurtosis:</th>      <td> 1.780</td> <th>  Cond. No.          </th> <td>    51.8</td>\n",
       "</tr>\n",
       "</table><br/><br/>Warnings:<br/>[1] Standard Errors assume that the covariance matrix of the errors is correctly specified."
      ],
      "text/plain": [
       "<class 'statsmodels.iolib.summary.Summary'>\n",
       "\"\"\"\n",
       "                            OLS Regression Results                            \n",
       "==============================================================================\n",
       "Dep. Variable:            final_grade   R-squared:                       0.999\n",
       "Model:                            OLS   Adj. R-squared:                  0.999\n",
       "Method:                 Least Squares   F-statistic:                 5.103e+04\n",
       "Date:                Tue, 19 Mar 2019   Prob (F-statistic):          3.76e-131\n",
       "Time:                        12:03:33   Log-Likelihood:                -170.25\n",
       "No. Observations:                  83   AIC:                             346.5\n",
       "Df Residuals:                      80   BIC:                             353.8\n",
       "Df Model:                           3                                         \n",
       "Covariance Type:            nonrobust                                         \n",
       "==============================================================================\n",
       "                 coef    std err          t      P>|t|      [0.025      0.975]\n",
       "------------------------------------------------------------------------------\n",
       "exam1          0.4555      0.036     12.625      0.000       0.384       0.527\n",
       "exam2         -0.0307      0.063     -0.486      0.629      -0.157       0.095\n",
       "exam3          0.5728      0.049     11.633      0.000       0.475       0.671\n",
       "==============================================================================\n",
       "Omnibus:                       30.491   Durbin-Watson:                   1.957\n",
       "Prob(Omnibus):                  0.000   Jarque-Bera (JB):                7.671\n",
       "Skew:                           0.427   Prob(JB):                       0.0216\n",
       "Kurtosis:                       1.780   Cond. No.                         51.8\n",
       "==============================================================================\n",
       "\n",
       "Warnings:\n",
       "[1] Standard Errors assume that the covariance matrix of the errors is correctly specified.\n",
       "\"\"\""
      ]
     },
     "execution_count": 127,
     "metadata": {},
     "output_type": "execute_result"
    }
   ],
   "source": [
    "ols_model = sm.OLS(y_train, X_train)\n",
    "fit = ols_model.fit()\n",
    "fit.summary()"
   ]
  },
  {
   "cell_type": "markdown",
   "metadata": {},
   "source": [
    "#### Conclusion\n",
    "\n",
    "Looking at the p-values of the 3 exams, I am going to remove exam2 from the features as we are not seeing any significance of that with the final grade, our target variable.\n",
    "\n",
    "I will now use sklearn to create a model using exam 1, exam3 and exam 1 & 3 to compare results.\n",
    "\n",
    "(well, I will model exam 1 (lm1) and exam 1 & 3 (lm2), and you will test exam 3 alone (lm3))\n"
   ]
  },
  {
   "cell_type": "markdown",
   "metadata": {},
   "source": [
    "### 10. Scikit-Learn: Fit Linear Regression Models, In-Sample Predictions"
   ]
  },
  {
   "cell_type": "markdown",
   "metadata": {},
   "source": [
    "Generally speaking, we'll use scikit-learn like this:\n",
    "\n",
    "1. Import the class(es) that we intend on using (we've already done this)\n",
    "1. Split the data into training and test (we've already done this)\n",
    "1. Create an instance of the class(es) to use\n",
    "1. Fit the model(s) with the training data\n",
    "1. Use the model(s) to make predictions\n",
    "1. Evaluate the performance of the model(s)"
   ]
  },
  {
   "cell_type": "markdown",
   "metadata": {},
   "source": [
    "We'll create two separate models: one that is based solely on exam 1, and one that is based on exam 1 and exam 2.\n",
    "\n",
    "#### Linear Model 1\n",
    "\n",
    "##### Create the linear regression object"
   ]
  },
  {
   "cell_type": "code",
   "execution_count": 179,
   "metadata": {},
   "outputs": [
    {
     "name": "stdout",
     "output_type": "stream",
     "text": [
      "LinearRegression(copy_X=True, fit_intercept=True, n_jobs=None,\n",
      "         normalize=False)\n"
     ]
    }
   ],
   "source": [
    "# Create linear regression objects\n",
    "lm1 = LinearRegression()\n",
    "print(lm1)"
   ]
  },
  {
   "cell_type": "markdown",
   "metadata": {},
   "source": [
    "##### Fit/Train the model\n",
    "\n",
    "This is where we feed the training data into the models, and model parameters are \"learned\". \n",
    "\n",
    "Let's take a look at the linear model and the parameters (y_intercept & coefficients) that the model calulated. "
   ]
  },
  {
   "cell_type": "code",
   "execution_count": 177,
   "metadata": {},
   "outputs": [
    {
     "name": "stdout",
     "output_type": "stream",
     "text": [
      "LinearRegression(copy_X=True, fit_intercept=True, n_jobs=None,\n",
      "         normalize=False)\n",
      "[22.88211318]\n",
      "[[0.74850854]]\n"
     ]
    }
   ],
   "source": [
    "lm1.fit(X_train[['exam1']], y_train)\n",
    "print(lm1)\n",
    "\n",
    "lm1_y_intercept = lm1.intercept_\n",
    "print(lm1_y_intercept)\n",
    "\n",
    "lm1_coefficients = lm1.coef_\n",
    "print(lm1_coefficients)"
   ]
  },
  {
   "cell_type": "markdown",
   "metadata": {},
   "source": [
    "Given the intercept and the coefficients, we can write the regression function. "
   ]
  },
  {
   "cell_type": "code",
   "execution_count": 178,
   "metadata": {},
   "outputs": [
    {
     "name": "stdout",
     "output_type": "stream",
     "text": [
      "Univariate - final_exam = b + m * exam1\n",
      "    y-intercept (b): 22.88\n",
      "    coefficient (m): 0.75\n",
      "\n"
     ]
    }
   ],
   "source": [
    "print('Univariate - final_exam = b + m * exam1')\n",
    "print('    y-intercept (b): %.2f' % lm1_y_intercept)\n",
    "print('    coefficient (m): %.2f' % lm1_coefficients[0])\n",
    "print()"
   ]
  },
  {
   "cell_type": "markdown",
   "metadata": {},
   "source": [
    "!!!tip \"sklearn conventions\"\n",
    "    Sklearn uses an underscore suffic to indicate properties which are learned from the data (as opposed to being inherit to the model itself.)"
   ]
  },
  {
   "cell_type": "markdown",
   "metadata": {},
   "source": [
    "##### In-Sample Prediction\n",
    "\n",
    "Now that we have a model, we can use the model to make predictions. We'll start by using our model to predict based on the test data set."
   ]
  },
  {
   "cell_type": "code",
   "execution_count": 169,
   "metadata": {},
   "outputs": [],
   "source": [
    "y_pred_lm1 = lm1.predict(X_train[['exam1']])"
   ]
  },
  {
   "cell_type": "markdown",
   "metadata": {},
   "source": [
    "##### Train/In-Sample Evaluations\n",
    "using sklearn.mean_squared_error and sklearn.r2_score.\n",
    "\n",
    "Now let's take a look at a couple performance metrics for our models: the mean squared error and r-squared values."
   ]
  },
  {
   "cell_type": "code",
   "execution_count": 170,
   "metadata": {},
   "outputs": [
    {
     "name": "stdout",
     "output_type": "stream",
     "text": [
      "lm1\n",
      "  mse: 3.37\n"
     ]
    }
   ],
   "source": [
    "mse_lm1 = mean_squared_error(y_train, y_pred_lm1)\n",
    "print(\"lm1\\n  mse: {:.3}\".format(mse_lm1)) "
   ]
  },
  {
   "cell_type": "code",
   "execution_count": 171,
   "metadata": {},
   "outputs": [
    {
     "name": "stdout",
     "output_type": "stream",
     "text": [
      "  97.12% of the variance in the students final grade can be explained by the grade on the first exam.\n"
     ]
    }
   ],
   "source": [
    "r2_lm1 = r2_score(y_train, y_pred_lm1)\n",
    "\n",
    "print('  {:.2%} of the variance in the student''s final grade can be explained by the grade on the first exam.'.format(r2_lm1))"
   ]
  },
  {
   "cell_type": "markdown",
   "metadata": {},
   "source": [
    "#### linear model 2: lm2\n",
    "\n",
    "#### Create the linear regression object"
   ]
  },
  {
   "cell_type": "code",
   "execution_count": null,
   "metadata": {},
   "outputs": [],
   "source": [
    "lm2 = LinearRegression()\n",
    "print(lm2)"
   ]
  },
  {
   "cell_type": "markdown",
   "metadata": {},
   "source": [
    "##### Fit/Train the model\n",
    "\n",
    "This is where we feed the training data into the models, and model parameters are \"learned\". \n",
    "\n",
    "Let's take a look at the linear model and the parameters (y_intercept & coefficients) that the model calulated. "
   ]
  },
  {
   "cell_type": "code",
   "execution_count": 165,
   "metadata": {},
   "outputs": [
    {
     "name": "stdout",
     "output_type": "stream",
     "text": [
      "LinearRegression(copy_X=True, fit_intercept=True, n_jobs=None,\n",
      "         normalize=False)\n"
     ]
    }
   ],
   "source": [
    "lm2.fit(X_train[['exam1', 'exam3']], y_train)\n",
    "print(lm2)"
   ]
  },
  {
   "cell_type": "markdown",
   "metadata": {},
   "source": [
    "Let's take a look at the parameters (y_intercept & coefficients) that the models calulated. "
   ]
  },
  {
   "cell_type": "code",
   "execution_count": 167,
   "metadata": {},
   "outputs": [
    {
     "name": "stdout",
     "output_type": "stream",
     "text": [
      "[12.79518052]\n",
      "[[0.59709165 0.26106586]]\n"
     ]
    }
   ],
   "source": [
    "lm2_y_intercept = lm2.intercept_\n",
    "print(lm2_y_intercept)\n",
    "\n",
    "lm2_coefficients = lm2.coef_\n",
    "print(lm2_coefficients)"
   ]
  },
  {
   "cell_type": "markdown",
   "metadata": {},
   "source": [
    "Given the intercept and the coefficients, we can write the regression function. "
   ]
  },
  {
   "cell_type": "code",
   "execution_count": 168,
   "metadata": {},
   "outputs": [
    {
     "name": "stdout",
     "output_type": "stream",
     "text": [
      "Multivariate - final_exam = b + m1 * exam1 + m2 * exam3\n",
      "    y-intercept  (b): 12.80\n",
      "    coefficient (m1): 0.60\n",
      "    coefficient (m2): 0.26\n"
     ]
    }
   ],
   "source": [
    "print('Multivariate - final_exam = b + m1 * exam1 + m2 * exam3')\n",
    "print('    y-intercept  (b): %.2f' % lm2_y_intercept)\n",
    "print('    coefficient (m1): %.2f' % lm2_coefficients[0][0])\n",
    "print('    coefficient (m2): %.2f' % lm2_coefficients[0][1])"
   ]
  },
  {
   "cell_type": "markdown",
   "metadata": {},
   "source": [
    "##### In-Sample Prediction\n",
    "\n",
    "Now that we have a model, we can use the model to make predictions. We'll start by using our model to predict based on the test data set."
   ]
  },
  {
   "cell_type": "code",
   "execution_count": 172,
   "metadata": {},
   "outputs": [],
   "source": [
    "y_pred_lm2 = lm2.predict(X_train.drop(columns=['exam2']))"
   ]
  },
  {
   "cell_type": "markdown",
   "metadata": {},
   "source": [
    "##### Train/In-Sample Evaluations\n",
    "using sklearn.mean_squared_error and sklearn.r2_score.\n",
    "\n",
    "Now let's take a look at a couple performance metrics for our models: the mean squared error and r-squared values."
   ]
  },
  {
   "cell_type": "code",
   "execution_count": 180,
   "metadata": {},
   "outputs": [
    {
     "name": "stdout",
     "output_type": "stream",
     "text": [
      "lm2\n",
      "  mse: 2.94\n"
     ]
    }
   ],
   "source": [
    "mse_lm2 = mean_squared_error(y_train, y_pred_lm2)\n",
    "print(\"lm2\\n  mse: {:.3}\".format(mse_lm2)) "
   ]
  },
  {
   "cell_type": "code",
   "execution_count": 181,
   "metadata": {},
   "outputs": [
    {
     "name": "stdout",
     "output_type": "stream",
     "text": [
      "  97.49% of the variance in the students final grade can be explained by the grades on exam 1 and 3.\n"
     ]
    }
   ],
   "source": [
    "r2_lm2 = r2_score(y_train, y_pred_lm2)\n",
    "print('  {:.2%} of the variance in the student''s final grade can be explained by the grades on exam 1 and 3.'.format(r2_lm2))"
   ]
  },
  {
   "cell_type": "markdown",
   "metadata": {},
   "source": [
    "##### Compare the 2 models\n",
    "We can visualize the predictions by plotting the predictions vs the actual values:"
   ]
  },
  {
   "cell_type": "code",
   "execution_count": 182,
   "metadata": {},
   "outputs": [
    {
     "data": {
      "text/plain": [
       "Text(0.5, 1.0, 'Predicted vs Actual Final Grade')"
      ]
     },
     "execution_count": 182,
     "metadata": {},
     "output_type": "execute_result"
    },
    {
     "data": {
      "image/png": "[encoded data removed]",
      "text/plain": [
       "<Figure size 507.35x400 with 1 Axes>"
      ]
     },
     "metadata": {},
     "output_type": "display_data"
    }
   ],
   "source": [
    "# the predictions are a 1 x 83 two dimensional matrix, but we want just\n",
    "# a single array of predictions. We can use the .ravel method to achieve\n",
    "# this.\n",
    "\n",
    "pd.DataFrame({'actual': y_train.final_grade,\n",
    "              'lm1': y_pred_lm1.ravel(),\n",
    "              'lm2': y_pred_lm2.ravel()})\\\n",
    "    .melt(id_vars=['actual'], var_name='model', value_name='prediction')\\\n",
    "    .pipe((sns.relplot, 'data'), x='actual', y='prediction', hue='model')\n",
    "\n",
    "plt.plot([60, 100], [60, 100], c='black', ls=':')\n",
    "plt.ylim(60, 100)\n",
    "plt.xlim(60, 100)\n",
    "plt.title('Predicted vs Actual Final Grade')"
   ]
  },
  {
   "cell_type": "markdown",
   "metadata": {},
   "source": [
    "Here the line down the middle represents \"perfect\" prediction. The further away from this line the are, the farther off the prediction was."
   ]
  },
  {
   "cell_type": "markdown",
   "metadata": {},
   "source": [
    "### 12. Scikit-Learn: Make any changes needed & repeat 9-10 as needed\n",
    "\n",
    "#### Exercise\n",
    "\n",
    "1. What are your take-aways from the evaluation results above? \n",
    "2. Fit, predict, and evaluate one more model, lm3, using exam 3 only.\n",
    "3. How does the result of the model compare to the other two?  Which should you use, based on these results? "
   ]
  },
  {
   "cell_type": "markdown",
   "metadata": {},
   "source": [
    "### 13. Scikit-Learn: Out-of-sample predictions using best model\n",
    "\n",
    "#### Predict final grades using testing data"
   ]
  },
  {
   "cell_type": "code",
   "execution_count": 183,
   "metadata": {},
   "outputs": [],
   "source": [
    "# Make predictions using the testing set\n",
    "y_pred_lm2 = lm2.predict(X_test[['exam1', 'exam3']])"
   ]
  },
  {
   "cell_type": "markdown",
   "metadata": {},
   "source": [
    "#### Evaluate performance"
   ]
  },
  {
   "cell_type": "code",
   "execution_count": 184,
   "metadata": {},
   "outputs": [
    {
     "name": "stdout",
     "output_type": "stream",
     "text": [
      "Mean squared error: 3.42\n"
     ]
    }
   ],
   "source": [
    "mse = mean_squared_error(y_test, y_pred_lm2)\n",
    "\n",
    "print(\"Mean squared error: %.2f\" % mse)"
   ]
  },
  {
   "cell_type": "code",
   "execution_count": 185,
   "metadata": {},
   "outputs": [
    {
     "name": "stdout",
     "output_type": "stream",
     "text": [
      "97.20% of the variance in the students final grade can be explained by the grades on the first 3 exams.\n"
     ]
    }
   ],
   "source": [
    "r2 = r2_score(y_test, y_pred_lm2)\n",
    "\n",
    "print('{:.2%} of the variance in the student''s final grade can be explained by the grades on the first 3 exams.'\n",
    "      .format(r2))"
   ]
  },
  {
   "cell_type": "markdown",
   "metadata": {},
   "source": [
    "#### Plot Residuals"
   ]
  },
  {
   "cell_type": "code",
   "execution_count": 98,
   "metadata": {},
   "outputs": [
    {
     "data": {
      "text/plain": [
       "Text(0, 0.5, 'Residuals')"
      ]
     },
     "execution_count": 98,
     "metadata": {},
     "output_type": "execute_result"
    },
    {
     "data": {
      "image/png": "[encoded data removed]",
      "text/plain": [
       "<Figure size 640x480 with 1 Axes>"
      ]
     },
     "metadata": {},
     "output_type": "display_data"
    }
   ],
   "source": [
    "plt.scatter(y_pred_lm2, y_pred_lm2 - y_test, c='g', s=40)\n",
    "plt.hlines(y=0, xmin=50, xmax=100)\n",
    "plt.title(\"Residual plot\")\n",
    "plt.ylabel('Residuals')"
   ]
  },
  {
   "cell_type": "markdown",
   "metadata": {},
   "source": [
    "## Further Reading\n",
    "\n",
    "- [Standardization vs Normalization](https://medium.com/@rrfd/standardize-or-normalize-examples-in-python-e3f174b65dfc)\n",
    "- [Visualization with Seaborn](https://jakevdp.github.io/PythonDataScienceHandbook/04.14-visualization-with-seaborn.html)\n",
    "- [Multiple Regression with `statsmodels`](https://nbviewer.jupyter.org/urls/s3.amazonaws.com/datarobotblog/notebooks/multiple_regression_in_python.ipynb    )"
   ]
  },
  {
   "cell_type": "markdown",
   "metadata": {},
   "source": [
    "## Exercises:\n",
    "\n",
    "1. Using the example data above:\n",
    "\n",
    "    1. Extract information from the results of `.describe` and compute IQR and\n",
    "       range of each exam and the final grade\n",
    "    1. Write a for loop to plot each of the 3 features (exam 1, 2, & 3) with the\n",
    "       final grade using a joint plot.  What can you say about each relationship\n",
    "       (using pearson's r and the p-value)\n",
    "    1. Plot the boxplot & heatmap side by side using 'subplot'\n",
    "    1. What are your take-aways from the evaluation results of `lm1` and `lm2`?\n",
    "    1. Fit, predict, and evaluate one more model, `lm3`, using exam 3 only.\n",
    "    1. How does the result of the model compare to the other two?  Which should\n",
    "       you use, based on these results?\n",
    "    1. Predict final grades of the out-of-sample data (test dataframe) and\n",
    "       evaluate results.\n",
    "    1. Which model performs the best, based on the 2 out-of-sample evaluation\n",
    "       results (the example one, `lm1`, and the exercise one, `lm3`, from the\n",
    "       above exercise).\n",
    "\n",
    "1. Using `telco_churn` database, predict total charges\n",
    "\n",
    "    1. Using the `telco_churn` database, extract a table for each customer *with\n",
    "       a 2-year contract* and include the following information customer id,\n",
    "       tenure, monthly charges, and total charges.\n",
    "    1. Export the table to a csv\n",
    "    1. Create a jupyter notebook titled `regression`\n",
    "    1. Prepare the Environment (do not copy and paste...manually type so that\n",
    "       you remember what you need and why you are importing the things that you\n",
    "       are. You will do this often!)\n",
    "    1. Read the information from the `customers` table into a dataframe.\n",
    "    1. How many rows are in your dataframe?\n",
    "    1. What is the data type of the field containing the customer ids?\n",
    "    1. Print to the notebook the last 10 rows of your dataframe.\n",
    "    1. What is the inner quartile range of tenure? monthly charges? total\n",
    "       charges?\n",
    "    1. How many missing values are in each variable?\n",
    "    1. Fill any missing values with 0.\n",
    "    1. Show the ditribution of monthly charges through a histogram\n",
    "    1. Create a new dataframe that contains tenure, monthly charges, and total\n",
    "       charges, but not the customer id.\n",
    "    1. Create a box plot of each variable in your new dataframe. This should be\n",
    "       a single chart with 3 categorical plots, 1 each for tenure, monthly\n",
    "       charges, total charges.\n",
    "    1. Split your data into a test and train dataset. Set the `random_state` to\n",
    "       `123`.  You should end up with 4 dataframes:  `X_train`, `X_test`,\n",
    "       `y_train`, `y_test`.\n",
    "\n",
    "1. Using the in-sample data (`X_train` and `y_train`)\n",
    "\n",
    "    1. Create a scatterplot for each combination of variables.\n",
    "    1. Create a heatmap containing the 3 variables.\n",
    "    1. Compute pearson's correlation coefficient and print it's value in the\n",
    "       sentence \"Pearson's R is `____` with a significance p-value of `____`\"\n",
    "    1. Train (aka *fit*) a linear regression model, modeling total charges as a\n",
    "       linear function of tenure.\n",
    "    1. What is the y-intercept of the regression line?  Translate the intercept\n",
    "       in plain english, i.e. what is means in the context of the data.\n",
    "    1. What the slope of the regression line?  Translate the slope in plain\n",
    "       english, i.e. what is means in the context of the data.\n",
    "    1. Write the linear function in the form of $y = mx + b$ using the\n",
    "       parameters that were estimated from the algorithm and the variable names\n",
    "       for y and x specific to your data.\n",
    "    1. Test your model on the training sample. That is, use your newly fit model\n",
    "       to predict the total charges using tenure.\n",
    "    1. Evaluate the model's performance using r-squared, mean squared error, and\n",
    "       median absolute error.\n",
    "\n",
    "1. Using the out-of-sample data (`X_test`, `y_test`)\n",
    "\n",
    "    1. Test your model on the test sample.\n",
    "    1. Evaluate your model's performance on test sample.  How do each of the\n",
    "       metrics compare to that of the training sample? How can you explain the\n",
    "       reason for the difference?\n",
    "    1. Calculate the p-value of the regressor for the train and test sample.\n",
    "       Hint: f_regression\n",
    "    1. Create a scatter plot of the predicted values versus the actual values in\n",
    "       the test sample.\n",
    "    1. Create a scatter plot of the actual values of x and y in the test sample\n",
    "       with the regression line layered over.\n",
    "    1. Create a scatter plot of the residuals (x axis: predicted values of final\n",
    "       grade, y axis: the residual values (remember definition of residual from\n",
    "       previous lesson).  Layer over it a horizonal line that represents no\n",
    "       residual.\n"
   ]
  },
  {
   "cell_type": "code",
   "execution_count": null,
   "metadata": {},
   "outputs": [],
   "source": []
  }
 ],
 "metadata": {
  "kernelspec": {
   "display_name": "Python 3",
   "language": "python",
   "name": "python3"
  },
  "language_info": {
   "codemirror_mode": {
    "name": "ipython",
    "version": 3
   },
   "file_extension": ".py",
   "mimetype": "text/x-python",
   "name": "python",
   "nbconvert_exporter": "python",
   "pygments_lexer": "ipython3",
   "version": "3.6.8"
  },
  "toc": {
   "base_numbering": 1,
   "nav_menu": {},
   "number_sections": false,
   "sideBar": false,
   "skip_h1_title": false,
   "title_cell": "Table of Contents",
   "title_sidebar": "Contents",
   "toc_cell": false,
   "toc_position": {},
   "toc_section_display": false,
   "toc_window_display": false
  }
 },
 "nbformat": 4,
 "nbformat_minor": 2
}

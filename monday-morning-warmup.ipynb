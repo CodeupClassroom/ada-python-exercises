{
 "cells": [
  {
   "cell_type": "markdown",
   "metadata": {},
   "source": [
    "# Error Scavenger Hunt\n",
    "\n",
    "## Syntax Errors\n",
    "\n",
    "- SyntaxError: Invalid Syntax\n",
    "    - unexpected EOF\n",
    "\n",
    "## Runtime Errors\n",
    "\n",
    "- NameError\n",
    "- TypeError\n",
    "    - can only concatenate list to list\n",
    "- AttributeError\n",
    "- IndentationError\n",
    "- KeyError\n",
    "- ValueError\n",
    "- IndexError\n",
    "- ZeroDivisionError: 1 / 0\n",
    "- KeyboardInterrupt\n",
    "- ImportError: module not found\n",
    "- variable reference before assignment\n",
    "- infinite loop\n",
    "- unexpected output when printing objects\n",
    "- printing\n",
    "\n",
    "warnings"
   ]
  }
 ],
 "metadata": {
  "kernelspec": {
   "display_name": "Python 3",
   "language": "python",
   "name": "python3"
  },
  "language_info": {
   "codemirror_mode": {
    "name": "ipython",
    "version": 3
   },
   "file_extension": ".py",
   "mimetype": "text/x-python",
   "name": "python",
   "nbconvert_exporter": "python",
   "pygments_lexer": "ipython3",
   "version": "3.6.6"
  },
  "toc": {
   "base_numbering": 1,
   "nav_menu": {},
   "number_sections": false,
   "sideBar": false,
   "skip_h1_title": false,
   "title_cell": "Table of Contents",
   "title_sidebar": "Contents",
   "toc_cell": false,
   "toc_position": {},
   "toc_section_display": false,
   "toc_window_display": false
  }
 },
 "nbformat": 4,
 "nbformat_minor": 2
}
